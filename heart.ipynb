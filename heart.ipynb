{
  "nbformat": 4,
  "nbformat_minor": 0,
  "metadata": {
    "colab": {
      "name": "heart.ipynb",
      "provenance": []
    },
    "kernelspec": {
      "name": "python3",
      "display_name": "Python 3"
    },
    "language_info": {
      "name": "python"
    }
  },
  "cells": [
    {
      "cell_type": "code",
      "metadata": {
        "id": "LXCiAf8Wvj_j"
      },
      "source": [
        "import numpy as np\n",
        "import pandas as pd\n",
        "import os\n",
        "for dirname, _, filenames in os.walk('/kaggle/input'):\n",
        "    for filename in filenames:\n",
        "        print(os.path.join(dirname, filename))"
      ],
      "execution_count": 1,
      "outputs": []
    },
    {
      "cell_type": "code",
      "metadata": {
        "id": "hkcfNTQED4yo"
      },
      "source": [
        "import pandas as pd\n",
        "import numpy as np\n",
        "import matplotlib.pyplot as plt\n",
        "import seaborn as sns\n",
        "from sklearn.preprocessing import StandardScaler\n",
        "from sklearn.decomposition import PCA\n",
        "from sklearn.pipeline import Pipeline\n",
        "from sklearn.model_selection import train_test_split\n",
        "from sklearn.tree import DecisionTreeClassifier\n",
        "from sklearn.model_selection import GridSearchCV\n",
        "from sklearn.model_selection import RandomizedSearchCV\n",
        "from sklearn.linear_model import LogisticRegression\n",
        "from sklearn.ensemble import RandomForestClassifier\n",
        "from sklearn.neighbors import KNeighborsClassifier\n",
        "import xgboost as xgb"
      ],
      "execution_count": 2,
      "outputs": []
    },
    {
      "cell_type": "code",
      "metadata": {
        "colab": {
          "base_uri": "https://localhost:8080/",
          "height": 204
        },
        "id": "wSXUJ6MaEIhU",
        "outputId": "aa4a4b3f-c12d-4c25-8474-922c8f8bc31e"
      },
      "source": [
        "dt = pd.read_csv('heart.csv')\n",
        "dt.head()"
      ],
      "execution_count": 3,
      "outputs": [
        {
          "output_type": "execute_result",
          "data": {
            "text/html": [
              "<div>\n",
              "<style scoped>\n",
              "    .dataframe tbody tr th:only-of-type {\n",
              "        vertical-align: middle;\n",
              "    }\n",
              "\n",
              "    .dataframe tbody tr th {\n",
              "        vertical-align: top;\n",
              "    }\n",
              "\n",
              "    .dataframe thead th {\n",
              "        text-align: right;\n",
              "    }\n",
              "</style>\n",
              "<table border=\"1\" class=\"dataframe\">\n",
              "  <thead>\n",
              "    <tr style=\"text-align: right;\">\n",
              "      <th></th>\n",
              "      <th>age</th>\n",
              "      <th>sex</th>\n",
              "      <th>cp</th>\n",
              "      <th>trestbps</th>\n",
              "      <th>chol</th>\n",
              "      <th>fbs</th>\n",
              "      <th>restecg</th>\n",
              "      <th>thalach</th>\n",
              "      <th>exang</th>\n",
              "      <th>oldpeak</th>\n",
              "      <th>slope</th>\n",
              "      <th>ca</th>\n",
              "      <th>thal</th>\n",
              "      <th>target</th>\n",
              "    </tr>\n",
              "  </thead>\n",
              "  <tbody>\n",
              "    <tr>\n",
              "      <th>0</th>\n",
              "      <td>63</td>\n",
              "      <td>1</td>\n",
              "      <td>3</td>\n",
              "      <td>145</td>\n",
              "      <td>233</td>\n",
              "      <td>1</td>\n",
              "      <td>0</td>\n",
              "      <td>150</td>\n",
              "      <td>0</td>\n",
              "      <td>2.3</td>\n",
              "      <td>0</td>\n",
              "      <td>0</td>\n",
              "      <td>1</td>\n",
              "      <td>1</td>\n",
              "    </tr>\n",
              "    <tr>\n",
              "      <th>1</th>\n",
              "      <td>37</td>\n",
              "      <td>1</td>\n",
              "      <td>2</td>\n",
              "      <td>130</td>\n",
              "      <td>250</td>\n",
              "      <td>0</td>\n",
              "      <td>1</td>\n",
              "      <td>187</td>\n",
              "      <td>0</td>\n",
              "      <td>3.5</td>\n",
              "      <td>0</td>\n",
              "      <td>0</td>\n",
              "      <td>2</td>\n",
              "      <td>1</td>\n",
              "    </tr>\n",
              "    <tr>\n",
              "      <th>2</th>\n",
              "      <td>41</td>\n",
              "      <td>0</td>\n",
              "      <td>1</td>\n",
              "      <td>130</td>\n",
              "      <td>204</td>\n",
              "      <td>0</td>\n",
              "      <td>0</td>\n",
              "      <td>172</td>\n",
              "      <td>0</td>\n",
              "      <td>1.4</td>\n",
              "      <td>2</td>\n",
              "      <td>0</td>\n",
              "      <td>2</td>\n",
              "      <td>1</td>\n",
              "    </tr>\n",
              "    <tr>\n",
              "      <th>3</th>\n",
              "      <td>56</td>\n",
              "      <td>1</td>\n",
              "      <td>1</td>\n",
              "      <td>120</td>\n",
              "      <td>236</td>\n",
              "      <td>0</td>\n",
              "      <td>1</td>\n",
              "      <td>178</td>\n",
              "      <td>0</td>\n",
              "      <td>0.8</td>\n",
              "      <td>2</td>\n",
              "      <td>0</td>\n",
              "      <td>2</td>\n",
              "      <td>1</td>\n",
              "    </tr>\n",
              "    <tr>\n",
              "      <th>4</th>\n",
              "      <td>57</td>\n",
              "      <td>0</td>\n",
              "      <td>0</td>\n",
              "      <td>120</td>\n",
              "      <td>354</td>\n",
              "      <td>0</td>\n",
              "      <td>1</td>\n",
              "      <td>163</td>\n",
              "      <td>1</td>\n",
              "      <td>0.6</td>\n",
              "      <td>2</td>\n",
              "      <td>0</td>\n",
              "      <td>2</td>\n",
              "      <td>1</td>\n",
              "    </tr>\n",
              "  </tbody>\n",
              "</table>\n",
              "</div>"
            ],
            "text/plain": [
              "   age  sex  cp  trestbps  chol  fbs  ...  exang  oldpeak  slope  ca  thal  target\n",
              "0   63    1   3       145   233    1  ...      0      2.3      0   0     1       1\n",
              "1   37    1   2       130   250    0  ...      0      3.5      0   0     2       1\n",
              "2   41    0   1       130   204    0  ...      0      1.4      2   0     2       1\n",
              "3   56    1   1       120   236    0  ...      0      0.8      2   0     2       1\n",
              "4   57    0   0       120   354    0  ...      1      0.6      2   0     2       1\n",
              "\n",
              "[5 rows x 14 columns]"
            ]
          },
          "metadata": {
            "tags": []
          },
          "execution_count": 3
        }
      ]
    },
    {
      "cell_type": "code",
      "metadata": {
        "colab": {
          "base_uri": "https://localhost:8080/",
          "height": 712
        },
        "id": "5sJE5DwGEKm4",
        "outputId": "cf4efa04-78be-45f4-fcf9-27f76632df9e"
      },
      "source": [
        "plt.figure(figsize=(20,15))\n",
        "sns.set_theme(style='dark')\n",
        "plt.subplot(2,3,1)\n",
        "sns.countplot(data=dt,x='fbs',hue='target')\n",
        "plt.subplot(2,3,2)\n",
        "sns.countplot(data=dt,x='restecg',hue='target')\n",
        "plt.subplot(2,3,3)\n",
        "sns.countplot(data=dt,x='slope',hue='target')\n",
        "plt.subplot(2,3,4)\n",
        "sns.countplot(data=dt,x='ca',hue='target')\n",
        "plt.subplot(2,3,5)\n",
        "sns.countplot(data=dt,x='exang',hue='target')\n",
        "plt.subplot(2,3,6)\n",
        "sns.countplot(data=dt,x='thal',hue='target')\n",
        "plt.show()\n"
      ],
      "execution_count": 4,
      "outputs": [
        {
          "output_type": "display_data",
          "data": {
            "image/png": "[encoded data removed]",
            "text/plain": [
              "<Figure size 1440x1080 with 6 Axes>"
            ]
          },
          "metadata": {
            "tags": [],
            "needs_background": "light"
          }
        }
      ]
    },
    {
      "cell_type": "code",
      "metadata": {
        "colab": {
          "base_uri": "https://localhost:8080/",
          "height": 774
        },
        "id": "Xp-qHDj-EZA2",
        "outputId": "aff2bfbd-8699-4d50-e715-fc6c521bbf88"
      },
      "source": [
        "plt.figure(figsize=(13,13))\n",
        "\n",
        "sns.set_theme(style='darkgrid')\n",
        "plt.subplot(2,3,1)\n",
        "sns.boxplot(x='thal',data=dt)\n",
        "plt.subplot(2,3,2)\n",
        "sns.boxplot(x='oldpeak',data=dt)\n",
        "plt.subplot(2,3,3)\n",
        "sns.boxplot(x='thalach',data=dt)\n",
        "plt.subplot(2,3,4)\n",
        "sns.boxplot(x='chol',data=dt)\n",
        "plt.subplot(2,3,5)\n",
        "sns.boxplot(x='trestbps',data=dt)\n",
        "plt.subplot(2,3,6)\n",
        "sns.boxplot(x='age',data=dt)\n",
        "plt.show()"
      ],
      "execution_count": 5,
      "outputs": [
        {
          "output_type": "display_data",
          "data": {
            "image/png": "[encoded data removed]",
            "text/plain": [
              "<Figure size 936x936 with 6 Axes>"
            ]
          },
          "metadata": {
            "tags": []
          }
        }
      ]
    },
    {
      "cell_type": "code",
      "metadata": {
        "colab": {
          "base_uri": "https://localhost:8080/",
          "height": 503
        },
        "id": "HhkSW59xNHzC",
        "outputId": "2e7b987a-2e26-48fb-ce96-06a9b2063929"
      },
      "source": [
        "dt.corr()"
      ],
      "execution_count": 6,
      "outputs": [
        {
          "output_type": "execute_result",
          "data": {
            "text/html": [
              "<div>\n",
              "<style scoped>\n",
              "    .dataframe tbody tr th:only-of-type {\n",
              "        vertical-align: middle;\n",
              "    }\n",
              "\n",
              "    .dataframe tbody tr th {\n",
              "        vertical-align: top;\n",
              "    }\n",
              "\n",
              "    .dataframe thead th {\n",
              "        text-align: right;\n",
              "    }\n",
              "</style>\n",
              "<table border=\"1\" class=\"dataframe\">\n",
              "  <thead>\n",
              "    <tr style=\"text-align: right;\">\n",
              "      <th></th>\n",
              "      <th>age</th>\n",
              "      <th>sex</th>\n",
              "      <th>cp</th>\n",
              "      <th>trestbps</th>\n",
              "      <th>chol</th>\n",
              "      <th>fbs</th>\n",
              "      <th>restecg</th>\n",
              "      <th>thalach</th>\n",
              "      <th>exang</th>\n",
              "      <th>oldpeak</th>\n",
              "      <th>slope</th>\n",
              "      <th>ca</th>\n",
              "      <th>thal</th>\n",
              "      <th>target</th>\n",
              "    </tr>\n",
              "  </thead>\n",
              "  <tbody>\n",
              "    <tr>\n",
              "      <th>age</th>\n",
              "      <td>1.000000</td>\n",
              "      <td>-0.098447</td>\n",
              "      <td>-0.068653</td>\n",
              "      <td>0.279351</td>\n",
              "      <td>0.213678</td>\n",
              "      <td>0.121308</td>\n",
              "      <td>-0.116211</td>\n",
              "      <td>-0.398522</td>\n",
              "      <td>0.096801</td>\n",
              "      <td>0.210013</td>\n",
              "      <td>-0.168814</td>\n",
              "      <td>0.276326</td>\n",
              "      <td>0.068001</td>\n",
              "      <td>-0.225439</td>\n",
              "    </tr>\n",
              "    <tr>\n",
              "      <th>sex</th>\n",
              "      <td>-0.098447</td>\n",
              "      <td>1.000000</td>\n",
              "      <td>-0.049353</td>\n",
              "      <td>-0.056769</td>\n",
              "      <td>-0.197912</td>\n",
              "      <td>0.045032</td>\n",
              "      <td>-0.058196</td>\n",
              "      <td>-0.044020</td>\n",
              "      <td>0.141664</td>\n",
              "      <td>0.096093</td>\n",
              "      <td>-0.030711</td>\n",
              "      <td>0.118261</td>\n",
              "      <td>0.210041</td>\n",
              "      <td>-0.280937</td>\n",
              "    </tr>\n",
              "    <tr>\n",
              "      <th>cp</th>\n",
              "      <td>-0.068653</td>\n",
              "      <td>-0.049353</td>\n",
              "      <td>1.000000</td>\n",
              "      <td>0.047608</td>\n",
              "      <td>-0.076904</td>\n",
              "      <td>0.094444</td>\n",
              "      <td>0.044421</td>\n",
              "      <td>0.295762</td>\n",
              "      <td>-0.394280</td>\n",
              "      <td>-0.149230</td>\n",
              "      <td>0.119717</td>\n",
              "      <td>-0.181053</td>\n",
              "      <td>-0.161736</td>\n",
              "      <td>0.433798</td>\n",
              "    </tr>\n",
              "    <tr>\n",
              "      <th>trestbps</th>\n",
              "      <td>0.279351</td>\n",
              "      <td>-0.056769</td>\n",
              "      <td>0.047608</td>\n",
              "      <td>1.000000</td>\n",
              "      <td>0.123174</td>\n",
              "      <td>0.177531</td>\n",
              "      <td>-0.114103</td>\n",
              "      <td>-0.046698</td>\n",
              "      <td>0.067616</td>\n",
              "      <td>0.193216</td>\n",
              "      <td>-0.121475</td>\n",
              "      <td>0.101389</td>\n",
              "      <td>0.062210</td>\n",
              "      <td>-0.144931</td>\n",
              "    </tr>\n",
              "    <tr>\n",
              "      <th>chol</th>\n",
              "      <td>0.213678</td>\n",
              "      <td>-0.197912</td>\n",
              "      <td>-0.076904</td>\n",
              "      <td>0.123174</td>\n",
              "      <td>1.000000</td>\n",
              "      <td>0.013294</td>\n",
              "      <td>-0.151040</td>\n",
              "      <td>-0.009940</td>\n",
              "      <td>0.067023</td>\n",
              "      <td>0.053952</td>\n",
              "      <td>-0.004038</td>\n",
              "      <td>0.070511</td>\n",
              "      <td>0.098803</td>\n",
              "      <td>-0.085239</td>\n",
              "    </tr>\n",
              "    <tr>\n",
              "      <th>fbs</th>\n",
              "      <td>0.121308</td>\n",
              "      <td>0.045032</td>\n",
              "      <td>0.094444</td>\n",
              "      <td>0.177531</td>\n",
              "      <td>0.013294</td>\n",
              "      <td>1.000000</td>\n",
              "      <td>-0.084189</td>\n",
              "      <td>-0.008567</td>\n",
              "      <td>0.025665</td>\n",
              "      <td>0.005747</td>\n",
              "      <td>-0.059894</td>\n",
              "      <td>0.137979</td>\n",
              "      <td>-0.032019</td>\n",
              "      <td>-0.028046</td>\n",
              "    </tr>\n",
              "    <tr>\n",
              "      <th>restecg</th>\n",
              "      <td>-0.116211</td>\n",
              "      <td>-0.058196</td>\n",
              "      <td>0.044421</td>\n",
              "      <td>-0.114103</td>\n",
              "      <td>-0.151040</td>\n",
              "      <td>-0.084189</td>\n",
              "      <td>1.000000</td>\n",
              "      <td>0.044123</td>\n",
              "      <td>-0.070733</td>\n",
              "      <td>-0.058770</td>\n",
              "      <td>0.093045</td>\n",
              "      <td>-0.072042</td>\n",
              "      <td>-0.011981</td>\n",
              "      <td>0.137230</td>\n",
              "    </tr>\n",
              "    <tr>\n",
              "      <th>thalach</th>\n",
              "      <td>-0.398522</td>\n",
              "      <td>-0.044020</td>\n",
              "      <td>0.295762</td>\n",
              "      <td>-0.046698</td>\n",
              "      <td>-0.009940</td>\n",
              "      <td>-0.008567</td>\n",
              "      <td>0.044123</td>\n",
              "      <td>1.000000</td>\n",
              "      <td>-0.378812</td>\n",
              "      <td>-0.344187</td>\n",
              "      <td>0.386784</td>\n",
              "      <td>-0.213177</td>\n",
              "      <td>-0.096439</td>\n",
              "      <td>0.421741</td>\n",
              "    </tr>\n",
              "    <tr>\n",
              "      <th>exang</th>\n",
              "      <td>0.096801</td>\n",
              "      <td>0.141664</td>\n",
              "      <td>-0.394280</td>\n",
              "      <td>0.067616</td>\n",
              "      <td>0.067023</td>\n",
              "      <td>0.025665</td>\n",
              "      <td>-0.070733</td>\n",
              "      <td>-0.378812</td>\n",
              "      <td>1.000000</td>\n",
              "      <td>0.288223</td>\n",
              "      <td>-0.257748</td>\n",
              "      <td>0.115739</td>\n",
              "      <td>0.206754</td>\n",
              "      <td>-0.436757</td>\n",
              "    </tr>\n",
              "    <tr>\n",
              "      <th>oldpeak</th>\n",
              "      <td>0.210013</td>\n",
              "      <td>0.096093</td>\n",
              "      <td>-0.149230</td>\n",
              "      <td>0.193216</td>\n",
              "      <td>0.053952</td>\n",
              "      <td>0.005747</td>\n",
              "      <td>-0.058770</td>\n",
              "      <td>-0.344187</td>\n",
              "      <td>0.288223</td>\n",
              "      <td>1.000000</td>\n",
              "      <td>-0.577537</td>\n",
              "      <td>0.222682</td>\n",
              "      <td>0.210244</td>\n",
              "      <td>-0.430696</td>\n",
              "    </tr>\n",
              "    <tr>\n",
              "      <th>slope</th>\n",
              "      <td>-0.168814</td>\n",
              "      <td>-0.030711</td>\n",
              "      <td>0.119717</td>\n",
              "      <td>-0.121475</td>\n",
              "      <td>-0.004038</td>\n",
              "      <td>-0.059894</td>\n",
              "      <td>0.093045</td>\n",
              "      <td>0.386784</td>\n",
              "      <td>-0.257748</td>\n",
              "      <td>-0.577537</td>\n",
              "      <td>1.000000</td>\n",
              "      <td>-0.080155</td>\n",
              "      <td>-0.104764</td>\n",
              "      <td>0.345877</td>\n",
              "    </tr>\n",
              "    <tr>\n",
              "      <th>ca</th>\n",
              "      <td>0.276326</td>\n",
              "      <td>0.118261</td>\n",
              "      <td>-0.181053</td>\n",
              "      <td>0.101389</td>\n",
              "      <td>0.070511</td>\n",
              "      <td>0.137979</td>\n",
              "      <td>-0.072042</td>\n",
              "      <td>-0.213177</td>\n",
              "      <td>0.115739</td>\n",
              "      <td>0.222682</td>\n",
              "      <td>-0.080155</td>\n",
              "      <td>1.000000</td>\n",
              "      <td>0.151832</td>\n",
              "      <td>-0.391724</td>\n",
              "    </tr>\n",
              "    <tr>\n",
              "      <th>thal</th>\n",
              "      <td>0.068001</td>\n",
              "      <td>0.210041</td>\n",
              "      <td>-0.161736</td>\n",
              "      <td>0.062210</td>\n",
              "      <td>0.098803</td>\n",
              "      <td>-0.032019</td>\n",
              "      <td>-0.011981</td>\n",
              "      <td>-0.096439</td>\n",
              "      <td>0.206754</td>\n",
              "      <td>0.210244</td>\n",
              "      <td>-0.104764</td>\n",
              "      <td>0.151832</td>\n",
              "      <td>1.000000</td>\n",
              "      <td>-0.344029</td>\n",
              "    </tr>\n",
              "    <tr>\n",
              "      <th>target</th>\n",
              "      <td>-0.225439</td>\n",
              "      <td>-0.280937</td>\n",
              "      <td>0.433798</td>\n",
              "      <td>-0.144931</td>\n",
              "      <td>-0.085239</td>\n",
              "      <td>-0.028046</td>\n",
              "      <td>0.137230</td>\n",
              "      <td>0.421741</td>\n",
              "      <td>-0.436757</td>\n",
              "      <td>-0.430696</td>\n",
              "      <td>0.345877</td>\n",
              "      <td>-0.391724</td>\n",
              "      <td>-0.344029</td>\n",
              "      <td>1.000000</td>\n",
              "    </tr>\n",
              "  </tbody>\n",
              "</table>\n",
              "</div>"
            ],
            "text/plain": [
              "               age       sex        cp  ...        ca      thal    target\n",
              "age       1.000000 -0.098447 -0.068653  ...  0.276326  0.068001 -0.225439\n",
              "sex      -0.098447  1.000000 -0.049353  ...  0.118261  0.210041 -0.280937\n",
              "cp       -0.068653 -0.049353  1.000000  ... -0.181053 -0.161736  0.433798\n",
              "trestbps  0.279351 -0.056769  0.047608  ...  0.101389  0.062210 -0.144931\n",
              "chol      0.213678 -0.197912 -0.076904  ...  0.070511  0.098803 -0.085239\n",
              "fbs       0.121308  0.045032  0.094444  ...  0.137979 -0.032019 -0.028046\n",
              "restecg  -0.116211 -0.058196  0.044421  ... -0.072042 -0.011981  0.137230\n",
              "thalach  -0.398522 -0.044020  0.295762  ... -0.213177 -0.096439  0.421741\n",
              "exang     0.096801  0.141664 -0.394280  ...  0.115739  0.206754 -0.436757\n",
              "oldpeak   0.210013  0.096093 -0.149230  ...  0.222682  0.210244 -0.430696\n",
              "slope    -0.168814 -0.030711  0.119717  ... -0.080155 -0.104764  0.345877\n",
              "ca        0.276326  0.118261 -0.181053  ...  1.000000  0.151832 -0.391724\n",
              "thal      0.068001  0.210041 -0.161736  ...  0.151832  1.000000 -0.344029\n",
              "target   -0.225439 -0.280937  0.433798  ... -0.391724 -0.344029  1.000000\n",
              "\n",
              "[14 rows x 14 columns]"
            ]
          },
          "metadata": {
            "tags": []
          },
          "execution_count": 6
        }
      ]
    },
    {
      "cell_type": "code",
      "metadata": {
        "execution": {
          "iopub.execute_input": "2021-06-15T20:57:16.619969Z",
          "iopub.status.busy": "2021-06-15T20:57:16.619158Z",
          "iopub.status.idle": "2021-06-15T20:57:17.763052Z",
          "shell.execute_reply": "2021-06-15T20:57:17.762345Z",
          "shell.execute_reply.started": "2021-06-15T20:55:49.495561Z"
        },
        "papermill": {
          "duration": 1.226414,
          "end_time": "2021-06-15T20:57:17.763226",
          "exception": false,
          "start_time": "2021-06-15T20:57:16.536812",
          "status": "completed"
        },
        "tags": [],
        "id": "transparent-morris",
        "colab": {
          "base_uri": "https://localhost:8080/",
          "height": 633
        },
        "outputId": "6c1bf341-0fe6-460e-93a7-b6cf130588fa"
      },
      "source": [
        "f,ax = plt.subplots(figsize=(10, 10))\n",
        "sns.heatmap(dt.corr(), annot=True, linewidths=.5, fmt= '.1f',ax=ax)\n",
        "plt.show()"
      ],
      "execution_count": 7,
      "outputs": [
        {
          "output_type": "display_data",
          "data": {
            "image/png": "[encoded data removed]",
            "text/plain": [
              "<Figure size 720x720 with 2 Axes>"
            ]
          },
          "metadata": {
            "tags": []
          }
        }
      ]
    },
    {
      "cell_type": "code",
      "metadata": {
        "execution": {
          "iopub.execute_input": "2021-06-15T20:57:18.073369Z",
          "iopub.status.busy": "2021-06-15T20:57:18.072419Z",
          "iopub.status.idle": "2021-06-15T20:57:18.083718Z",
          "shell.execute_reply": "2021-06-15T20:57:18.083099Z",
          "shell.execute_reply.started": "2021-06-15T20:55:50.620433Z"
        },
        "papermill": {
          "duration": 0.092946,
          "end_time": "2021-06-15T20:57:18.083916",
          "exception": false,
          "start_time": "2021-06-15T20:57:17.990970",
          "status": "completed"
        },
        "tags": [],
        "id": "effective-bookmark",
        "colab": {
          "base_uri": "https://localhost:8080/"
        },
        "outputId": "1e2892f9-6a67-4eb5-e1b0-667575be5dc2"
      },
      "source": [
        "dt.corr()[\"target\"].sort_values()"
      ],
      "execution_count": 8,
      "outputs": [
        {
          "output_type": "execute_result",
          "data": {
            "text/plain": [
              "exang      -0.436757\n",
              "oldpeak    -0.430696\n",
              "ca         -0.391724\n",
              "thal       -0.344029\n",
              "sex        -0.280937\n",
              "age        -0.225439\n",
              "trestbps   -0.144931\n",
              "chol       -0.085239\n",
              "fbs        -0.028046\n",
              "restecg     0.137230\n",
              "slope       0.345877\n",
              "thalach     0.421741\n",
              "cp          0.433798\n",
              "target      1.000000\n",
              "Name: target, dtype: float64"
            ]
          },
          "metadata": {
            "tags": []
          },
          "execution_count": 8
        }
      ]
    },
    {
      "cell_type": "code",
      "metadata": {
        "execution": {
          "iopub.execute_input": "2021-06-15T20:57:18.263236Z",
          "iopub.status.busy": "2021-06-15T20:57:18.262233Z",
          "iopub.status.idle": "2021-06-15T20:57:18.267629Z",
          "shell.execute_reply": "2021-06-15T20:57:18.266919Z",
          "shell.execute_reply.started": "2021-06-15T20:55:50.633261Z"
        },
        "papermill": {
          "duration": 0.107603,
          "end_time": "2021-06-15T20:57:18.267821",
          "exception": false,
          "start_time": "2021-06-15T20:57:18.160218",
          "status": "completed"
        },
        "tags": [],
        "id": "physical-nicaragua",
        "colab": {
          "base_uri": "https://localhost:8080/"
        },
        "outputId": "c0fe8b7f-a306-4013-eafe-6ca189251f1f"
      },
      "source": [
        "dt.info()"
      ],
      "execution_count": 9,
      "outputs": [
        {
          "output_type": "stream",
          "text": [
            "<class 'pandas.core.frame.DataFrame'>\n",
            "RangeIndex: 303 entries, 0 to 302\n",
            "Data columns (total 14 columns):\n",
            " #   Column    Non-Null Count  Dtype  \n",
            "---  ------    --------------  -----  \n",
            " 0   age       303 non-null    int64  \n",
            " 1   sex       303 non-null    int64  \n",
            " 2   cp        303 non-null    int64  \n",
            " 3   trestbps  303 non-null    int64  \n",
            " 4   chol      303 non-null    int64  \n",
            " 5   fbs       303 non-null    int64  \n",
            " 6   restecg   303 non-null    int64  \n",
            " 7   thalach   303 non-null    int64  \n",
            " 8   exang     303 non-null    int64  \n",
            " 9   oldpeak   303 non-null    float64\n",
            " 10  slope     303 non-null    int64  \n",
            " 11  ca        303 non-null    int64  \n",
            " 12  thal      303 non-null    int64  \n",
            " 13  target    303 non-null    int64  \n",
            "dtypes: float64(1), int64(13)\n",
            "memory usage: 33.3 KB\n"
          ],
          "name": "stdout"
        }
      ]
    },
    {
      "cell_type": "code",
      "metadata": {
        "execution": {
          "iopub.execute_input": "2021-06-15T20:57:18.590576Z",
          "iopub.status.busy": "2021-06-15T20:57:18.589486Z",
          "iopub.status.idle": "2021-06-15T20:57:18.595350Z",
          "shell.execute_reply": "2021-06-15T20:57:18.594654Z",
          "shell.execute_reply.started": "2021-06-15T20:55:50.657495Z"
        },
        "papermill": {
          "duration": 0.092467,
          "end_time": "2021-06-15T20:57:18.595529",
          "exception": false,
          "start_time": "2021-06-15T20:57:18.503062",
          "status": "completed"
        },
        "tags": [],
        "id": "white-union",
        "colab": {
          "base_uri": "https://localhost:8080/"
        },
        "outputId": "f8eb429e-533a-4a58-cf36-e9d903628682"
      },
      "source": [
        "dt.isnull().sum()"
      ],
      "execution_count": 10,
      "outputs": [
        {
          "output_type": "execute_result",
          "data": {
            "text/plain": [
              "age         0\n",
              "sex         0\n",
              "cp          0\n",
              "trestbps    0\n",
              "chol        0\n",
              "fbs         0\n",
              "restecg     0\n",
              "thalach     0\n",
              "exang       0\n",
              "oldpeak     0\n",
              "slope       0\n",
              "ca          0\n",
              "thal        0\n",
              "target      0\n",
              "dtype: int64"
            ]
          },
          "metadata": {
            "tags": []
          },
          "execution_count": 10
        }
      ]
    },
    {
      "cell_type": "code",
      "metadata": {
        "execution": {
          "iopub.execute_input": "2021-06-15T20:57:18.954664Z",
          "iopub.status.busy": "2021-06-15T20:57:18.953588Z",
          "iopub.status.idle": "2021-06-15T20:57:19.013543Z",
          "shell.execute_reply": "2021-06-15T20:57:19.012763Z",
          "shell.execute_reply.started": "2021-06-15T20:55:50.674519Z"
        },
        "papermill": {
          "duration": 0.188386,
          "end_time": "2021-06-15T20:57:19.013729",
          "exception": false,
          "start_time": "2021-06-15T20:57:18.825343",
          "status": "completed"
        },
        "tags": [],
        "id": "unnecessary-singer",
        "colab": {
          "base_uri": "https://localhost:8080/",
          "height": 317
        },
        "outputId": "d264c246-8731-43dd-c3fe-c2194c16bf20"
      },
      "source": [
        "dt.describe()"
      ],
      "execution_count": 11,
      "outputs": [
        {
          "output_type": "execute_result",
          "data": {
            "text/html": [
              "<div>\n",
              "<style scoped>\n",
              "    .dataframe tbody tr th:only-of-type {\n",
              "        vertical-align: middle;\n",
              "    }\n",
              "\n",
              "    .dataframe tbody tr th {\n",
              "        vertical-align: top;\n",
              "    }\n",
              "\n",
              "    .dataframe thead th {\n",
              "        text-align: right;\n",
              "    }\n",
              "</style>\n",
              "<table border=\"1\" class=\"dataframe\">\n",
              "  <thead>\n",
              "    <tr style=\"text-align: right;\">\n",
              "      <th></th>\n",
              "      <th>age</th>\n",
              "      <th>sex</th>\n",
              "      <th>cp</th>\n",
              "      <th>trestbps</th>\n",
              "      <th>chol</th>\n",
              "      <th>fbs</th>\n",
              "      <th>restecg</th>\n",
              "      <th>thalach</th>\n",
              "      <th>exang</th>\n",
              "      <th>oldpeak</th>\n",
              "      <th>slope</th>\n",
              "      <th>ca</th>\n",
              "      <th>thal</th>\n",
              "      <th>target</th>\n",
              "    </tr>\n",
              "  </thead>\n",
              "  <tbody>\n",
              "    <tr>\n",
              "      <th>count</th>\n",
              "      <td>303.000000</td>\n",
              "      <td>303.000000</td>\n",
              "      <td>303.000000</td>\n",
              "      <td>303.000000</td>\n",
              "      <td>303.000000</td>\n",
              "      <td>303.000000</td>\n",
              "      <td>303.000000</td>\n",
              "      <td>303.000000</td>\n",
              "      <td>303.000000</td>\n",
              "      <td>303.000000</td>\n",
              "      <td>303.000000</td>\n",
              "      <td>303.000000</td>\n",
              "      <td>303.000000</td>\n",
              "      <td>303.000000</td>\n",
              "    </tr>\n",
              "    <tr>\n",
              "      <th>mean</th>\n",
              "      <td>54.366337</td>\n",
              "      <td>0.683168</td>\n",
              "      <td>0.966997</td>\n",
              "      <td>131.623762</td>\n",
              "      <td>246.264026</td>\n",
              "      <td>0.148515</td>\n",
              "      <td>0.528053</td>\n",
              "      <td>149.646865</td>\n",
              "      <td>0.326733</td>\n",
              "      <td>1.039604</td>\n",
              "      <td>1.399340</td>\n",
              "      <td>0.729373</td>\n",
              "      <td>2.313531</td>\n",
              "      <td>0.544554</td>\n",
              "    </tr>\n",
              "    <tr>\n",
              "      <th>std</th>\n",
              "      <td>9.082101</td>\n",
              "      <td>0.466011</td>\n",
              "      <td>1.032052</td>\n",
              "      <td>17.538143</td>\n",
              "      <td>51.830751</td>\n",
              "      <td>0.356198</td>\n",
              "      <td>0.525860</td>\n",
              "      <td>22.905161</td>\n",
              "      <td>0.469794</td>\n",
              "      <td>1.161075</td>\n",
              "      <td>0.616226</td>\n",
              "      <td>1.022606</td>\n",
              "      <td>0.612277</td>\n",
              "      <td>0.498835</td>\n",
              "    </tr>\n",
              "    <tr>\n",
              "      <th>min</th>\n",
              "      <td>29.000000</td>\n",
              "      <td>0.000000</td>\n",
              "      <td>0.000000</td>\n",
              "      <td>94.000000</td>\n",
              "      <td>126.000000</td>\n",
              "      <td>0.000000</td>\n",
              "      <td>0.000000</td>\n",
              "      <td>71.000000</td>\n",
              "      <td>0.000000</td>\n",
              "      <td>0.000000</td>\n",
              "      <td>0.000000</td>\n",
              "      <td>0.000000</td>\n",
              "      <td>0.000000</td>\n",
              "      <td>0.000000</td>\n",
              "    </tr>\n",
              "    <tr>\n",
              "      <th>25%</th>\n",
              "      <td>47.500000</td>\n",
              "      <td>0.000000</td>\n",
              "      <td>0.000000</td>\n",
              "      <td>120.000000</td>\n",
              "      <td>211.000000</td>\n",
              "      <td>0.000000</td>\n",
              "      <td>0.000000</td>\n",
              "      <td>133.500000</td>\n",
              "      <td>0.000000</td>\n",
              "      <td>0.000000</td>\n",
              "      <td>1.000000</td>\n",
              "      <td>0.000000</td>\n",
              "      <td>2.000000</td>\n",
              "      <td>0.000000</td>\n",
              "    </tr>\n",
              "    <tr>\n",
              "      <th>50%</th>\n",
              "      <td>55.000000</td>\n",
              "      <td>1.000000</td>\n",
              "      <td>1.000000</td>\n",
              "      <td>130.000000</td>\n",
              "      <td>240.000000</td>\n",
              "      <td>0.000000</td>\n",
              "      <td>1.000000</td>\n",
              "      <td>153.000000</td>\n",
              "      <td>0.000000</td>\n",
              "      <td>0.800000</td>\n",
              "      <td>1.000000</td>\n",
              "      <td>0.000000</td>\n",
              "      <td>2.000000</td>\n",
              "      <td>1.000000</td>\n",
              "    </tr>\n",
              "    <tr>\n",
              "      <th>75%</th>\n",
              "      <td>61.000000</td>\n",
              "      <td>1.000000</td>\n",
              "      <td>2.000000</td>\n",
              "      <td>140.000000</td>\n",
              "      <td>274.500000</td>\n",
              "      <td>0.000000</td>\n",
              "      <td>1.000000</td>\n",
              "      <td>166.000000</td>\n",
              "      <td>1.000000</td>\n",
              "      <td>1.600000</td>\n",
              "      <td>2.000000</td>\n",
              "      <td>1.000000</td>\n",
              "      <td>3.000000</td>\n",
              "      <td>1.000000</td>\n",
              "    </tr>\n",
              "    <tr>\n",
              "      <th>max</th>\n",
              "      <td>77.000000</td>\n",
              "      <td>1.000000</td>\n",
              "      <td>3.000000</td>\n",
              "      <td>200.000000</td>\n",
              "      <td>564.000000</td>\n",
              "      <td>1.000000</td>\n",
              "      <td>2.000000</td>\n",
              "      <td>202.000000</td>\n",
              "      <td>1.000000</td>\n",
              "      <td>6.200000</td>\n",
              "      <td>2.000000</td>\n",
              "      <td>4.000000</td>\n",
              "      <td>3.000000</td>\n",
              "      <td>1.000000</td>\n",
              "    </tr>\n",
              "  </tbody>\n",
              "</table>\n",
              "</div>"
            ],
            "text/plain": [
              "              age         sex          cp  ...          ca        thal      target\n",
              "count  303.000000  303.000000  303.000000  ...  303.000000  303.000000  303.000000\n",
              "mean    54.366337    0.683168    0.966997  ...    0.729373    2.313531    0.544554\n",
              "std      9.082101    0.466011    1.032052  ...    1.022606    0.612277    0.498835\n",
              "min     29.000000    0.000000    0.000000  ...    0.000000    0.000000    0.000000\n",
              "25%     47.500000    0.000000    0.000000  ...    0.000000    2.000000    0.000000\n",
              "50%     55.000000    1.000000    1.000000  ...    0.000000    2.000000    1.000000\n",
              "75%     61.000000    1.000000    2.000000  ...    1.000000    3.000000    1.000000\n",
              "max     77.000000    1.000000    3.000000  ...    4.000000    3.000000    1.000000\n",
              "\n",
              "[8 rows x 14 columns]"
            ]
          },
          "metadata": {
            "tags": []
          },
          "execution_count": 11
        }
      ]
    },
    {
      "cell_type": "code",
      "metadata": {
        "execution": {
          "iopub.execute_input": "2021-06-15T20:57:19.657313Z",
          "iopub.status.busy": "2021-06-15T20:57:19.650283Z",
          "iopub.status.idle": "2021-06-15T20:57:19.701006Z",
          "shell.execute_reply": "2021-06-15T20:57:19.701508Z",
          "shell.execute_reply.started": "2021-06-15T20:55:50.735027Z"
        },
        "papermill": {
          "duration": 0.132853,
          "end_time": "2021-06-15T20:57:19.701721",
          "exception": false,
          "start_time": "2021-06-15T20:57:19.568868",
          "status": "completed"
        },
        "tags": [],
        "id": "magnetic-colleague",
        "colab": {
          "base_uri": "https://localhost:8080/",
          "height": 1000
        },
        "outputId": "e8a54e7a-b51d-4e03-ad59-b3b4e56018d2"
      },
      "source": [
        "pd.crosstab(dt.age,dt.target)"
      ],
      "execution_count": 12,
      "outputs": [
        {
          "output_type": "execute_result",
          "data": {
            "text/html": [
              "<div>\n",
              "<style scoped>\n",
              "    .dataframe tbody tr th:only-of-type {\n",
              "        vertical-align: middle;\n",
              "    }\n",
              "\n",
              "    .dataframe tbody tr th {\n",
              "        vertical-align: top;\n",
              "    }\n",
              "\n",
              "    .dataframe thead th {\n",
              "        text-align: right;\n",
              "    }\n",
              "</style>\n",
              "<table border=\"1\" class=\"dataframe\">\n",
              "  <thead>\n",
              "    <tr style=\"text-align: right;\">\n",
              "      <th>target</th>\n",
              "      <th>0</th>\n",
              "      <th>1</th>\n",
              "    </tr>\n",
              "    <tr>\n",
              "      <th>age</th>\n",
              "      <th></th>\n",
              "      <th></th>\n",
              "    </tr>\n",
              "  </thead>\n",
              "  <tbody>\n",
              "    <tr>\n",
              "      <th>29</th>\n",
              "      <td>0</td>\n",
              "      <td>1</td>\n",
              "    </tr>\n",
              "    <tr>\n",
              "      <th>34</th>\n",
              "      <td>0</td>\n",
              "      <td>2</td>\n",
              "    </tr>\n",
              "    <tr>\n",
              "      <th>35</th>\n",
              "      <td>2</td>\n",
              "      <td>2</td>\n",
              "    </tr>\n",
              "    <tr>\n",
              "      <th>37</th>\n",
              "      <td>0</td>\n",
              "      <td>2</td>\n",
              "    </tr>\n",
              "    <tr>\n",
              "      <th>38</th>\n",
              "      <td>1</td>\n",
              "      <td>2</td>\n",
              "    </tr>\n",
              "    <tr>\n",
              "      <th>39</th>\n",
              "      <td>1</td>\n",
              "      <td>3</td>\n",
              "    </tr>\n",
              "    <tr>\n",
              "      <th>40</th>\n",
              "      <td>2</td>\n",
              "      <td>1</td>\n",
              "    </tr>\n",
              "    <tr>\n",
              "      <th>41</th>\n",
              "      <td>1</td>\n",
              "      <td>9</td>\n",
              "    </tr>\n",
              "    <tr>\n",
              "      <th>42</th>\n",
              "      <td>1</td>\n",
              "      <td>7</td>\n",
              "    </tr>\n",
              "    <tr>\n",
              "      <th>43</th>\n",
              "      <td>3</td>\n",
              "      <td>5</td>\n",
              "    </tr>\n",
              "    <tr>\n",
              "      <th>44</th>\n",
              "      <td>3</td>\n",
              "      <td>8</td>\n",
              "    </tr>\n",
              "    <tr>\n",
              "      <th>45</th>\n",
              "      <td>2</td>\n",
              "      <td>6</td>\n",
              "    </tr>\n",
              "    <tr>\n",
              "      <th>46</th>\n",
              "      <td>3</td>\n",
              "      <td>4</td>\n",
              "    </tr>\n",
              "    <tr>\n",
              "      <th>47</th>\n",
              "      <td>2</td>\n",
              "      <td>3</td>\n",
              "    </tr>\n",
              "    <tr>\n",
              "      <th>48</th>\n",
              "      <td>3</td>\n",
              "      <td>4</td>\n",
              "    </tr>\n",
              "    <tr>\n",
              "      <th>49</th>\n",
              "      <td>2</td>\n",
              "      <td>3</td>\n",
              "    </tr>\n",
              "    <tr>\n",
              "      <th>50</th>\n",
              "      <td>3</td>\n",
              "      <td>4</td>\n",
              "    </tr>\n",
              "    <tr>\n",
              "      <th>51</th>\n",
              "      <td>3</td>\n",
              "      <td>9</td>\n",
              "    </tr>\n",
              "    <tr>\n",
              "      <th>52</th>\n",
              "      <td>4</td>\n",
              "      <td>9</td>\n",
              "    </tr>\n",
              "    <tr>\n",
              "      <th>53</th>\n",
              "      <td>2</td>\n",
              "      <td>6</td>\n",
              "    </tr>\n",
              "    <tr>\n",
              "      <th>54</th>\n",
              "      <td>6</td>\n",
              "      <td>10</td>\n",
              "    </tr>\n",
              "    <tr>\n",
              "      <th>55</th>\n",
              "      <td>5</td>\n",
              "      <td>3</td>\n",
              "    </tr>\n",
              "    <tr>\n",
              "      <th>56</th>\n",
              "      <td>6</td>\n",
              "      <td>5</td>\n",
              "    </tr>\n",
              "    <tr>\n",
              "      <th>57</th>\n",
              "      <td>10</td>\n",
              "      <td>7</td>\n",
              "    </tr>\n",
              "    <tr>\n",
              "      <th>58</th>\n",
              "      <td>12</td>\n",
              "      <td>7</td>\n",
              "    </tr>\n",
              "    <tr>\n",
              "      <th>59</th>\n",
              "      <td>9</td>\n",
              "      <td>5</td>\n",
              "    </tr>\n",
              "    <tr>\n",
              "      <th>60</th>\n",
              "      <td>8</td>\n",
              "      <td>3</td>\n",
              "    </tr>\n",
              "    <tr>\n",
              "      <th>61</th>\n",
              "      <td>7</td>\n",
              "      <td>1</td>\n",
              "    </tr>\n",
              "    <tr>\n",
              "      <th>62</th>\n",
              "      <td>7</td>\n",
              "      <td>4</td>\n",
              "    </tr>\n",
              "    <tr>\n",
              "      <th>63</th>\n",
              "      <td>6</td>\n",
              "      <td>3</td>\n",
              "    </tr>\n",
              "    <tr>\n",
              "      <th>64</th>\n",
              "      <td>4</td>\n",
              "      <td>6</td>\n",
              "    </tr>\n",
              "    <tr>\n",
              "      <th>65</th>\n",
              "      <td>4</td>\n",
              "      <td>4</td>\n",
              "    </tr>\n",
              "    <tr>\n",
              "      <th>66</th>\n",
              "      <td>3</td>\n",
              "      <td>4</td>\n",
              "    </tr>\n",
              "    <tr>\n",
              "      <th>67</th>\n",
              "      <td>6</td>\n",
              "      <td>3</td>\n",
              "    </tr>\n",
              "    <tr>\n",
              "      <th>68</th>\n",
              "      <td>2</td>\n",
              "      <td>2</td>\n",
              "    </tr>\n",
              "    <tr>\n",
              "      <th>69</th>\n",
              "      <td>1</td>\n",
              "      <td>2</td>\n",
              "    </tr>\n",
              "    <tr>\n",
              "      <th>70</th>\n",
              "      <td>3</td>\n",
              "      <td>1</td>\n",
              "    </tr>\n",
              "    <tr>\n",
              "      <th>71</th>\n",
              "      <td>0</td>\n",
              "      <td>3</td>\n",
              "    </tr>\n",
              "    <tr>\n",
              "      <th>74</th>\n",
              "      <td>0</td>\n",
              "      <td>1</td>\n",
              "    </tr>\n",
              "    <tr>\n",
              "      <th>76</th>\n",
              "      <td>0</td>\n",
              "      <td>1</td>\n",
              "    </tr>\n",
              "    <tr>\n",
              "      <th>77</th>\n",
              "      <td>1</td>\n",
              "      <td>0</td>\n",
              "    </tr>\n",
              "  </tbody>\n",
              "</table>\n",
              "</div>"
            ],
            "text/plain": [
              "target   0   1\n",
              "age           \n",
              "29       0   1\n",
              "34       0   2\n",
              "35       2   2\n",
              "37       0   2\n",
              "38       1   2\n",
              "39       1   3\n",
              "40       2   1\n",
              "41       1   9\n",
              "42       1   7\n",
              "43       3   5\n",
              "44       3   8\n",
              "45       2   6\n",
              "46       3   4\n",
              "47       2   3\n",
              "48       3   4\n",
              "49       2   3\n",
              "50       3   4\n",
              "51       3   9\n",
              "52       4   9\n",
              "53       2   6\n",
              "54       6  10\n",
              "55       5   3\n",
              "56       6   5\n",
              "57      10   7\n",
              "58      12   7\n",
              "59       9   5\n",
              "60       8   3\n",
              "61       7   1\n",
              "62       7   4\n",
              "63       6   3\n",
              "64       4   6\n",
              "65       4   4\n",
              "66       3   4\n",
              "67       6   3\n",
              "68       2   2\n",
              "69       1   2\n",
              "70       3   1\n",
              "71       0   3\n",
              "74       0   1\n",
              "76       0   1\n",
              "77       1   0"
            ]
          },
          "metadata": {
            "tags": []
          },
          "execution_count": 12
        }
      ]
    },
    {
      "cell_type": "code",
      "metadata": {
        "execution": {
          "iopub.execute_input": "2021-06-15T20:57:20.039507Z",
          "iopub.status.busy": "2021-06-15T20:57:20.034031Z",
          "iopub.status.idle": "2021-06-15T20:57:20.880472Z",
          "shell.execute_reply": "2021-06-15T20:57:20.881028Z",
          "shell.execute_reply.started": "2021-06-15T20:55:50.786971Z"
        },
        "papermill": {
          "duration": 0.944698,
          "end_time": "2021-06-15T20:57:20.881234",
          "exception": false,
          "start_time": "2021-06-15T20:57:19.936536",
          "status": "completed"
        },
        "tags": [],
        "id": "complex-glossary",
        "colab": {
          "base_uri": "https://localhost:8080/",
          "height": 424
        },
        "outputId": "ac968e94-c7e6-4184-a05b-79e86c1e8e3c"
      },
      "source": [
        "crosstabAge = pd.crosstab(dt.age,dt.target)\n",
        "crosstabAge.plot(kind=\"bar\",figsize=(20,8), color =\"cmyk\", alpha = 0.8) #alpha is opacity\n",
        "plt.title('Heart Disease Frequency Given Ages')\n",
        "plt.xlabel('Ages')\n",
        "plt.ylabel('Frequency')\n",
        "plt.legend([\"Have not Disease\", \"Have Disease\"])\n",
        "plt.show()"
      ],
      "execution_count": 13,
      "outputs": [
        {
          "output_type": "display_data",
          "data": {
            "image/png": "[encoded data removed]",
            "text/plain": [
              "<Figure size 1440x576 with 1 Axes>"
            ]
          },
          "metadata": {
            "tags": []
          }
        }
      ]
    },
    {
      "cell_type": "code",
      "metadata": {
        "execution": {
          "iopub.execute_input": "2021-06-15T20:57:21.366462Z",
          "iopub.status.busy": "2021-06-15T20:57:21.365444Z",
          "iopub.status.idle": "2021-06-15T20:57:21.370387Z",
          "shell.execute_reply": "2021-06-15T20:57:21.369744Z",
          "shell.execute_reply.started": "2021-06-15T20:55:51.529886Z"
        },
        "papermill": {
          "duration": 0.091085,
          "end_time": "2021-06-15T20:57:21.370561",
          "exception": false,
          "start_time": "2021-06-15T20:57:21.279476",
          "status": "completed"
        },
        "tags": [],
        "id": "general-driving",
        "colab": {
          "base_uri": "https://localhost:8080/"
        },
        "outputId": "c525c4e3-4de3-46b8-d307-947c36f58886"
      },
      "source": [
        "dt[\"target\"].value_counts()"
      ],
      "execution_count": 14,
      "outputs": [
        {
          "output_type": "execute_result",
          "data": {
            "text/plain": [
              "1    165\n",
              "0    138\n",
              "Name: target, dtype: int64"
            ]
          },
          "metadata": {
            "tags": []
          },
          "execution_count": 14
        }
      ]
    },
    {
      "cell_type": "code",
      "metadata": {
        "execution": {
          "iopub.execute_input": "2021-06-15T20:57:21.535986Z",
          "iopub.status.busy": "2021-06-15T20:57:21.534984Z",
          "iopub.status.idle": "2021-06-15T20:57:21.684254Z",
          "shell.execute_reply": "2021-06-15T20:57:21.683572Z",
          "shell.execute_reply.started": "2021-06-15T20:55:51.539755Z"
        },
        "papermill": {
          "duration": 0.234163,
          "end_time": "2021-06-15T20:57:21.684421",
          "exception": false,
          "start_time": "2021-06-15T20:57:21.450258",
          "status": "completed"
        },
        "tags": [],
        "id": "agreed-speaker",
        "colab": {
          "base_uri": "https://localhost:8080/",
          "height": 356
        },
        "outputId": "e4803891-3c9a-48d7-8952-35764905b902"
      },
      "source": [
        "sns.countplot(dt[\"target\"], palette=\"Set2\")\n",
        "plt.xlabel(' 0 = Not Have Disease,  1 = Have Disease')"
      ],
      "execution_count": 15,
      "outputs": [
        {
          "output_type": "stream",
          "text": [
            "/usr/local/lib/python3.7/dist-packages/seaborn/_decorators.py:43: FutureWarning: Pass the following variable as a keyword arg: x. From version 0.12, the only valid positional argument will be `data`, and passing other arguments without an explicit keyword will result in an error or misinterpretation.\n",
            "  FutureWarning\n"
          ],
          "name": "stderr"
        },
        {
          "output_type": "execute_result",
          "data": {
            "text/plain": [
              "Text(0.5, 0, ' 0 = Not Have Disease,  1 = Have Disease')"
            ]
          },
          "metadata": {
            "tags": []
          },
          "execution_count": 15
        },
        {
          "output_type": "display_data",
          "data": {
            "image/png": "[encoded data removed]",
            "text/plain": [
              "<Figure size 432x288 with 1 Axes>"
            ]
          },
          "metadata": {
            "tags": []
          }
        }
      ]
    },
    {
      "cell_type": "code",
      "metadata": {
        "execution": {
          "iopub.execute_input": "2021-06-15T20:57:22.027937Z",
          "iopub.status.busy": "2021-06-15T20:57:22.022579Z",
          "iopub.status.idle": "2021-06-15T20:57:22.032051Z",
          "shell.execute_reply": "2021-06-15T20:57:22.031459Z",
          "shell.execute_reply.started": "2021-06-15T20:55:51.679551Z"
        },
        "papermill": {
          "duration": 0.109726,
          "end_time": "2021-06-15T20:57:22.032232",
          "exception": false,
          "start_time": "2021-06-15T20:57:21.922506",
          "status": "completed"
        },
        "tags": [],
        "id": "committed-fitting",
        "colab": {
          "base_uri": "https://localhost:8080/",
          "height": 142
        },
        "outputId": "0337ae44-e116-4a50-c594-0b2e68165848"
      },
      "source": [
        "crosstabSex = pd.crosstab(dt[\"sex\"], dt[\"target\"])\n",
        "crosstabSex"
      ],
      "execution_count": 16,
      "outputs": [
        {
          "output_type": "execute_result",
          "data": {
            "text/html": [
              "<div>\n",
              "<style scoped>\n",
              "    .dataframe tbody tr th:only-of-type {\n",
              "        vertical-align: middle;\n",
              "    }\n",
              "\n",
              "    .dataframe tbody tr th {\n",
              "        vertical-align: top;\n",
              "    }\n",
              "\n",
              "    .dataframe thead th {\n",
              "        text-align: right;\n",
              "    }\n",
              "</style>\n",
              "<table border=\"1\" class=\"dataframe\">\n",
              "  <thead>\n",
              "    <tr style=\"text-align: right;\">\n",
              "      <th>target</th>\n",
              "      <th>0</th>\n",
              "      <th>1</th>\n",
              "    </tr>\n",
              "    <tr>\n",
              "      <th>sex</th>\n",
              "      <th></th>\n",
              "      <th></th>\n",
              "    </tr>\n",
              "  </thead>\n",
              "  <tbody>\n",
              "    <tr>\n",
              "      <th>0</th>\n",
              "      <td>24</td>\n",
              "      <td>72</td>\n",
              "    </tr>\n",
              "    <tr>\n",
              "      <th>1</th>\n",
              "      <td>114</td>\n",
              "      <td>93</td>\n",
              "    </tr>\n",
              "  </tbody>\n",
              "</table>\n",
              "</div>"
            ],
            "text/plain": [
              "target    0   1\n",
              "sex            \n",
              "0        24  72\n",
              "1       114  93"
            ]
          },
          "metadata": {
            "tags": []
          },
          "execution_count": 16
        }
      ]
    },
    {
      "cell_type": "code",
      "metadata": {
        "execution": {
          "iopub.execute_input": "2021-06-15T20:57:22.224717Z",
          "iopub.status.busy": "2021-06-15T20:57:22.223953Z",
          "iopub.status.idle": "2021-06-15T20:57:22.455871Z",
          "shell.execute_reply": "2021-06-15T20:57:22.455066Z",
          "shell.execute_reply.started": "2021-06-15T20:55:51.707408Z"
        },
        "papermill": {
          "duration": 0.342335,
          "end_time": "2021-06-15T20:57:22.456060",
          "exception": false,
          "start_time": "2021-06-15T20:57:22.113725",
          "status": "completed"
        },
        "tags": [],
        "id": "extensive-appeal",
        "colab": {
          "base_uri": "https://localhost:8080/",
          "height": 427
        },
        "outputId": "67585c0c-c666-49c4-cc9c-f1d24a598e68"
      },
      "source": [
        "crosstabSex.plot(kind=\"bar\", figsize=(15,6), color=\"cmyk\")\n",
        "plt.title(\"Heart Disease Frequency Given Sex\")\n",
        "plt.xticks(rotation=0)\n",
        "plt.xlabel(\"0 = Female , 1 = Male\")\n",
        "plt.ylabel(\"Frequency\")\n",
        "plt.legend([\"Have not Disease\", \"Have Disease\"])"
      ],
      "execution_count": 17,
      "outputs": [
        {
          "output_type": "execute_result",
          "data": {
            "text/plain": [
              "<matplotlib.legend.Legend at 0x7f4dbbe6fdd0>"
            ]
          },
          "metadata": {
            "tags": []
          },
          "execution_count": 17
        },
        {
          "output_type": "display_data",
          "data": {
            "image/png": "[encoded data removed]",
            "text/plain": [
              "<Figure size 1080x432 with 1 Axes>"
            ]
          },
          "metadata": {
            "tags": []
          }
        }
      ]
    },
    {
      "cell_type": "code",
      "metadata": {
        "execution": {
          "iopub.execute_input": "2021-06-15T20:57:22.985188Z",
          "iopub.status.busy": "2021-06-15T20:57:22.978883Z",
          "iopub.status.idle": "2021-06-15T20:57:22.990456Z",
          "shell.execute_reply": "2021-06-15T20:57:22.989697Z",
          "shell.execute_reply.started": "2021-06-15T20:55:51.885345Z"
        },
        "papermill": {
          "duration": 0.11719,
          "end_time": "2021-06-15T20:57:22.990626",
          "exception": false,
          "start_time": "2021-06-15T20:57:22.873436",
          "status": "completed"
        },
        "tags": [],
        "id": "timely-hartford",
        "colab": {
          "base_uri": "https://localhost:8080/",
          "height": 142
        },
        "outputId": "c8618230-abce-455d-ee59-dee9d3118e78"
      },
      "source": [
        "crosstabFbs = pd.crosstab(dt[\"fbs\"], dt[\"target\"])\n",
        "crosstabFbs"
      ],
      "execution_count": 18,
      "outputs": [
        {
          "output_type": "execute_result",
          "data": {
            "text/html": [
              "<div>\n",
              "<style scoped>\n",
              "    .dataframe tbody tr th:only-of-type {\n",
              "        vertical-align: middle;\n",
              "    }\n",
              "\n",
              "    .dataframe tbody tr th {\n",
              "        vertical-align: top;\n",
              "    }\n",
              "\n",
              "    .dataframe thead th {\n",
              "        text-align: right;\n",
              "    }\n",
              "</style>\n",
              "<table border=\"1\" class=\"dataframe\">\n",
              "  <thead>\n",
              "    <tr style=\"text-align: right;\">\n",
              "      <th>target</th>\n",
              "      <th>0</th>\n",
              "      <th>1</th>\n",
              "    </tr>\n",
              "    <tr>\n",
              "      <th>fbs</th>\n",
              "      <th></th>\n",
              "      <th></th>\n",
              "    </tr>\n",
              "  </thead>\n",
              "  <tbody>\n",
              "    <tr>\n",
              "      <th>0</th>\n",
              "      <td>116</td>\n",
              "      <td>142</td>\n",
              "    </tr>\n",
              "    <tr>\n",
              "      <th>1</th>\n",
              "      <td>22</td>\n",
              "      <td>23</td>\n",
              "    </tr>\n",
              "  </tbody>\n",
              "</table>\n",
              "</div>"
            ],
            "text/plain": [
              "target    0    1\n",
              "fbs             \n",
              "0       116  142\n",
              "1        22   23"
            ]
          },
          "metadata": {
            "tags": []
          },
          "execution_count": 18
        }
      ]
    },
    {
      "cell_type": "code",
      "metadata": {
        "execution": {
          "iopub.execute_input": "2021-06-15T20:57:23.199140Z",
          "iopub.status.busy": "2021-06-15T20:57:23.188274Z",
          "iopub.status.idle": "2021-06-15T20:57:23.366423Z",
          "shell.execute_reply": "2021-06-15T20:57:23.366958Z",
          "shell.execute_reply.started": "2021-06-15T20:55:51.909947Z"
        },
        "papermill": {
          "duration": 0.290105,
          "end_time": "2021-06-15T20:57:23.367183",
          "exception": false,
          "start_time": "2021-06-15T20:57:23.077078",
          "status": "completed"
        },
        "tags": [],
        "id": "funky-watershed",
        "colab": {
          "base_uri": "https://localhost:8080/",
          "height": 519
        },
        "outputId": "d40e65d3-f16c-4d4d-fd76-1136b0e3138d"
      },
      "source": [
        "crosstabFbs.plot(kind=\"bar\", figsize=(10, 8), color=\"cmyk\")\n",
        "plt.xticks(rotation=0)\n",
        "plt.xlabel(\"Fasting Blood Sugar < 120 : 0 | Fasting Blood Sugar > 120 : 1\")\n",
        "plt.ylabel(\"Frequency\")\n",
        "plt.legend([\"Have not Disease\", \"Have Disease\"])"
      ],
      "execution_count": 19,
      "outputs": [
        {
          "output_type": "execute_result",
          "data": {
            "text/plain": [
              "<matplotlib.legend.Legend at 0x7f4dbbe23810>"
            ]
          },
          "metadata": {
            "tags": []
          },
          "execution_count": 19
        },
        {
          "output_type": "display_data",
          "data": {
            "image/png": "[encoded data removed]",
            "text/plain": [
              "<Figure size 720x576 with 1 Axes>"
            ]
          },
          "metadata": {
            "tags": []
          }
        }
      ]
    },
    {
      "cell_type": "code",
      "metadata": {
        "execution": {
          "iopub.execute_input": "2021-06-15T20:57:23.710210Z",
          "iopub.status.busy": "2021-06-15T20:57:23.709343Z",
          "iopub.status.idle": "2021-06-15T20:57:23.716473Z",
          "shell.execute_reply": "2021-06-15T20:57:23.717011Z",
          "shell.execute_reply.started": "2021-06-15T20:55:52.095189Z"
        },
        "papermill": {
          "duration": 0.095457,
          "end_time": "2021-06-15T20:57:23.717259",
          "exception": false,
          "start_time": "2021-06-15T20:57:23.621802",
          "status": "completed"
        },
        "tags": [],
        "id": "daily-pregnancy",
        "colab": {
          "base_uri": "https://localhost:8080/"
        },
        "outputId": "57303864-ebb5-49ac-bc2f-b8360c215dd4"
      },
      "source": [
        "dt.fbs.value_counts()"
      ],
      "execution_count": 20,
      "outputs": [
        {
          "output_type": "execute_result",
          "data": {
            "text/plain": [
              "0    258\n",
              "1     45\n",
              "Name: fbs, dtype: int64"
            ]
          },
          "metadata": {
            "tags": []
          },
          "execution_count": 20
        }
      ]
    },
    {
      "cell_type": "code",
      "metadata": {
        "execution": {
          "iopub.execute_input": "2021-06-15T20:57:23.896669Z",
          "iopub.status.busy": "2021-06-15T20:57:23.895882Z",
          "iopub.status.idle": "2021-06-15T20:57:23.927458Z",
          "shell.execute_reply": "2021-06-15T20:57:23.926792Z",
          "shell.execute_reply.started": "2021-06-15T20:55:52.105390Z"
        },
        "papermill": {
          "duration": 0.121072,
          "end_time": "2021-06-15T20:57:23.927649",
          "exception": false,
          "start_time": "2021-06-15T20:57:23.806577",
          "status": "completed"
        },
        "tags": [],
        "id": "noble-vegetable",
        "colab": {
          "base_uri": "https://localhost:8080/",
          "height": 142
        },
        "outputId": "773539d3-ef34-4e4b-d0bb-86794182ab02"
      },
      "source": [
        "crosstabExang = pd.crosstab(dt[\"exang\"], dt[\"target\"])\n",
        "crosstabExang"
      ],
      "execution_count": 21,
      "outputs": [
        {
          "output_type": "execute_result",
          "data": {
            "text/html": [
              "<div>\n",
              "<style scoped>\n",
              "    .dataframe tbody tr th:only-of-type {\n",
              "        vertical-align: middle;\n",
              "    }\n",
              "\n",
              "    .dataframe tbody tr th {\n",
              "        vertical-align: top;\n",
              "    }\n",
              "\n",
              "    .dataframe thead th {\n",
              "        text-align: right;\n",
              "    }\n",
              "</style>\n",
              "<table border=\"1\" class=\"dataframe\">\n",
              "  <thead>\n",
              "    <tr style=\"text-align: right;\">\n",
              "      <th>target</th>\n",
              "      <th>0</th>\n",
              "      <th>1</th>\n",
              "    </tr>\n",
              "    <tr>\n",
              "      <th>exang</th>\n",
              "      <th></th>\n",
              "      <th></th>\n",
              "    </tr>\n",
              "  </thead>\n",
              "  <tbody>\n",
              "    <tr>\n",
              "      <th>0</th>\n",
              "      <td>62</td>\n",
              "      <td>142</td>\n",
              "    </tr>\n",
              "    <tr>\n",
              "      <th>1</th>\n",
              "      <td>76</td>\n",
              "      <td>23</td>\n",
              "    </tr>\n",
              "  </tbody>\n",
              "</table>\n",
              "</div>"
            ],
            "text/plain": [
              "target   0    1\n",
              "exang          \n",
              "0       62  142\n",
              "1       76   23"
            ]
          },
          "metadata": {
            "tags": []
          },
          "execution_count": 21
        }
      ]
    },
    {
      "cell_type": "code",
      "metadata": {
        "execution": {
          "iopub.execute_input": "2021-06-15T20:57:24.156640Z",
          "iopub.status.busy": "2021-06-15T20:57:24.151161Z",
          "iopub.status.idle": "2021-06-15T20:57:24.326081Z",
          "shell.execute_reply": "2021-06-15T20:57:24.324883Z",
          "shell.execute_reply.started": "2021-06-15T20:55:52.138208Z"
        },
        "papermill": {
          "duration": 0.297952,
          "end_time": "2021-06-15T20:57:24.326273",
          "exception": false,
          "start_time": "2021-06-15T20:57:24.028321",
          "status": "completed"
        },
        "tags": [],
        "id": "compatible-harbor",
        "colab": {
          "base_uri": "https://localhost:8080/",
          "height": 519
        },
        "outputId": "32d510a0-5578-4e7b-9d1d-f8f58f9ecc07"
      },
      "source": [
        "crosstabExang.plot(kind=\"bar\", figsize=(10, 8), color=\"cmyk\")\n",
        "plt.xticks(rotation=0)\n",
        "plt.xlabel(\"Exercise Induced Angina 0 : No | 1 : Yes\")\n",
        "plt.ylabel(\"Frequency\")\n",
        "plt.legend([\"Have not Disease\", \"Have Disease\"])"
      ],
      "execution_count": 22,
      "outputs": [
        {
          "output_type": "execute_result",
          "data": {
            "text/plain": [
              "<matplotlib.legend.Legend at 0x7f4dbbe37850>"
            ]
          },
          "metadata": {
            "tags": []
          },
          "execution_count": 22
        },
        {
          "output_type": "display_data",
          "data": {
            "image/png": "[encoded data removed]",
            "text/plain": [
              "<Figure size 720x576 with 1 Axes>"
            ]
          },
          "metadata": {
            "tags": []
          }
        }
      ]
    },
    {
      "cell_type": "markdown",
      "metadata": {
        "id": "zBY4vPLIny0A"
      },
      "source": [
        "**Logical regression**"
      ]
    },
    {
      "cell_type": "code",
      "metadata": {
        "execution": {
          "iopub.execute_input": "2021-06-15T20:57:25.210556Z",
          "iopub.status.busy": "2021-06-15T20:57:25.209623Z",
          "iopub.status.idle": "2021-06-15T20:57:25.211473Z",
          "shell.execute_reply": "2021-06-15T20:57:25.211968Z",
          "shell.execute_reply.started": "2021-06-15T20:55:52.314119Z"
        },
        "papermill": {
          "duration": 0.09578,
          "end_time": "2021-06-15T20:57:25.212206",
          "exception": false,
          "start_time": "2021-06-15T20:57:25.116426",
          "status": "completed"
        },
        "tags": [],
        "id": "minus-school"
      },
      "source": [
        "y = dt.target.values #values convert values onto numpy array\n",
        "x_dt = dt.drop([\"target\"], axis=1) #except for target the other columns is our x dt"
      ],
      "execution_count": 23,
      "outputs": []
    },
    {
      "cell_type": "code",
      "metadata": {
        "execution": {
          "iopub.execute_input": "2021-06-15T20:57:25.392437Z",
          "iopub.status.busy": "2021-06-15T20:57:25.391636Z",
          "iopub.status.idle": "2021-06-15T20:57:25.399545Z",
          "shell.execute_reply": "2021-06-15T20:57:25.398894Z",
          "shell.execute_reply.started": "2021-06-15T20:55:52.321573Z"
        },
        "papermill": {
          "duration": 0.097592,
          "end_time": "2021-06-15T20:57:25.399712",
          "exception": false,
          "start_time": "2021-06-15T20:57:25.302120",
          "status": "completed"
        },
        "tags": [],
        "colab": {
          "base_uri": "https://localhost:8080/"
        },
        "id": "alone-forwarding",
        "outputId": "3597cc28-83b1-4b59-f6db-014d92b04472"
      },
      "source": [
        "print(y)"
      ],
      "execution_count": 24,
      "outputs": [
        {
          "output_type": "stream",
          "text": [
            "[1 1 1 1 1 1 1 1 1 1 1 1 1 1 1 1 1 1 1 1 1 1 1 1 1 1 1 1 1 1 1 1 1 1 1 1 1\n",
            " 1 1 1 1 1 1 1 1 1 1 1 1 1 1 1 1 1 1 1 1 1 1 1 1 1 1 1 1 1 1 1 1 1 1 1 1 1\n",
            " 1 1 1 1 1 1 1 1 1 1 1 1 1 1 1 1 1 1 1 1 1 1 1 1 1 1 1 1 1 1 1 1 1 1 1 1 1\n",
            " 1 1 1 1 1 1 1 1 1 1 1 1 1 1 1 1 1 1 1 1 1 1 1 1 1 1 1 1 1 1 1 1 1 1 1 1 1\n",
            " 1 1 1 1 1 1 1 1 1 1 1 1 1 1 1 1 1 0 0 0 0 0 0 0 0 0 0 0 0 0 0 0 0 0 0 0 0\n",
            " 0 0 0 0 0 0 0 0 0 0 0 0 0 0 0 0 0 0 0 0 0 0 0 0 0 0 0 0 0 0 0 0 0 0 0 0 0\n",
            " 0 0 0 0 0 0 0 0 0 0 0 0 0 0 0 0 0 0 0 0 0 0 0 0 0 0 0 0 0 0 0 0 0 0 0 0 0\n",
            " 0 0 0 0 0 0 0 0 0 0 0 0 0 0 0 0 0 0 0 0 0 0 0 0 0 0 0 0 0 0 0 0 0 0 0 0 0\n",
            " 0 0 0 0 0 0 0]\n"
          ],
          "name": "stdout"
        }
      ]
    },
    {
      "cell_type": "code",
      "metadata": {
        "execution": {
          "iopub.execute_input": "2021-06-15T20:57:25.926051Z",
          "iopub.status.busy": "2021-06-15T20:57:25.919176Z",
          "iopub.status.idle": "2021-06-15T20:57:25.928722Z",
          "shell.execute_reply": "2021-06-15T20:57:25.929328Z",
          "shell.execute_reply.started": "2021-06-15T20:55:52.336254Z"
        },
        "papermill": {
          "duration": 0.102525,
          "end_time": "2021-06-15T20:57:25.929562",
          "exception": false,
          "start_time": "2021-06-15T20:57:25.827037",
          "status": "completed"
        },
        "tags": [],
        "id": "impressive-flood"
      },
      "source": [
        "x = (x_dt - np.min(x_dt))/(np.max(x_dt) - np.min(x_dt)).values"
      ],
      "execution_count": 25,
      "outputs": []
    },
    {
      "cell_type": "code",
      "metadata": {
        "execution": {
          "iopub.execute_input": "2021-06-15T20:57:26.131987Z",
          "iopub.status.busy": "2021-06-15T20:57:26.114402Z",
          "iopub.status.idle": "2021-06-15T20:57:26.135367Z",
          "shell.execute_reply": "2021-06-15T20:57:26.135942Z",
          "shell.execute_reply.started": "2021-06-15T20:55:52.356417Z"
        },
        "papermill": {
          "duration": 0.120547,
          "end_time": "2021-06-15T20:57:26.136147",
          "exception": false,
          "start_time": "2021-06-15T20:57:26.015600",
          "status": "completed"
        },
        "tags": [],
        "id": "working-legislature",
        "colab": {
          "base_uri": "https://localhost:8080/",
          "height": 419
        },
        "outputId": "6f087f7a-061a-4af5-a4bc-4f4720e0422a"
      },
      "source": [
        "x"
      ],
      "execution_count": 26,
      "outputs": [
        {
          "output_type": "execute_result",
          "data": {
            "text/html": [
              "<div>\n",
              "<style scoped>\n",
              "    .dataframe tbody tr th:only-of-type {\n",
              "        vertical-align: middle;\n",
              "    }\n",
              "\n",
              "    .dataframe tbody tr th {\n",
              "        vertical-align: top;\n",
              "    }\n",
              "\n",
              "    .dataframe thead th {\n",
              "        text-align: right;\n",
              "    }\n",
              "</style>\n",
              "<table border=\"1\" class=\"dataframe\">\n",
              "  <thead>\n",
              "    <tr style=\"text-align: right;\">\n",
              "      <th></th>\n",
              "      <th>age</th>\n",
              "      <th>sex</th>\n",
              "      <th>cp</th>\n",
              "      <th>trestbps</th>\n",
              "      <th>chol</th>\n",
              "      <th>fbs</th>\n",
              "      <th>restecg</th>\n",
              "      <th>thalach</th>\n",
              "      <th>exang</th>\n",
              "      <th>oldpeak</th>\n",
              "      <th>slope</th>\n",
              "      <th>ca</th>\n",
              "      <th>thal</th>\n",
              "    </tr>\n",
              "  </thead>\n",
              "  <tbody>\n",
              "    <tr>\n",
              "      <th>0</th>\n",
              "      <td>0.708333</td>\n",
              "      <td>1.0</td>\n",
              "      <td>1.000000</td>\n",
              "      <td>0.481132</td>\n",
              "      <td>0.244292</td>\n",
              "      <td>1.0</td>\n",
              "      <td>0.0</td>\n",
              "      <td>0.603053</td>\n",
              "      <td>0.0</td>\n",
              "      <td>0.370968</td>\n",
              "      <td>0.0</td>\n",
              "      <td>0.00</td>\n",
              "      <td>0.333333</td>\n",
              "    </tr>\n",
              "    <tr>\n",
              "      <th>1</th>\n",
              "      <td>0.166667</td>\n",
              "      <td>1.0</td>\n",
              "      <td>0.666667</td>\n",
              "      <td>0.339623</td>\n",
              "      <td>0.283105</td>\n",
              "      <td>0.0</td>\n",
              "      <td>0.5</td>\n",
              "      <td>0.885496</td>\n",
              "      <td>0.0</td>\n",
              "      <td>0.564516</td>\n",
              "      <td>0.0</td>\n",
              "      <td>0.00</td>\n",
              "      <td>0.666667</td>\n",
              "    </tr>\n",
              "    <tr>\n",
              "      <th>2</th>\n",
              "      <td>0.250000</td>\n",
              "      <td>0.0</td>\n",
              "      <td>0.333333</td>\n",
              "      <td>0.339623</td>\n",
              "      <td>0.178082</td>\n",
              "      <td>0.0</td>\n",
              "      <td>0.0</td>\n",
              "      <td>0.770992</td>\n",
              "      <td>0.0</td>\n",
              "      <td>0.225806</td>\n",
              "      <td>1.0</td>\n",
              "      <td>0.00</td>\n",
              "      <td>0.666667</td>\n",
              "    </tr>\n",
              "    <tr>\n",
              "      <th>3</th>\n",
              "      <td>0.562500</td>\n",
              "      <td>1.0</td>\n",
              "      <td>0.333333</td>\n",
              "      <td>0.245283</td>\n",
              "      <td>0.251142</td>\n",
              "      <td>0.0</td>\n",
              "      <td>0.5</td>\n",
              "      <td>0.816794</td>\n",
              "      <td>0.0</td>\n",
              "      <td>0.129032</td>\n",
              "      <td>1.0</td>\n",
              "      <td>0.00</td>\n",
              "      <td>0.666667</td>\n",
              "    </tr>\n",
              "    <tr>\n",
              "      <th>4</th>\n",
              "      <td>0.583333</td>\n",
              "      <td>0.0</td>\n",
              "      <td>0.000000</td>\n",
              "      <td>0.245283</td>\n",
              "      <td>0.520548</td>\n",
              "      <td>0.0</td>\n",
              "      <td>0.5</td>\n",
              "      <td>0.702290</td>\n",
              "      <td>1.0</td>\n",
              "      <td>0.096774</td>\n",
              "      <td>1.0</td>\n",
              "      <td>0.00</td>\n",
              "      <td>0.666667</td>\n",
              "    </tr>\n",
              "    <tr>\n",
              "      <th>...</th>\n",
              "      <td>...</td>\n",
              "      <td>...</td>\n",
              "      <td>...</td>\n",
              "      <td>...</td>\n",
              "      <td>...</td>\n",
              "      <td>...</td>\n",
              "      <td>...</td>\n",
              "      <td>...</td>\n",
              "      <td>...</td>\n",
              "      <td>...</td>\n",
              "      <td>...</td>\n",
              "      <td>...</td>\n",
              "      <td>...</td>\n",
              "    </tr>\n",
              "    <tr>\n",
              "      <th>298</th>\n",
              "      <td>0.583333</td>\n",
              "      <td>0.0</td>\n",
              "      <td>0.000000</td>\n",
              "      <td>0.433962</td>\n",
              "      <td>0.262557</td>\n",
              "      <td>0.0</td>\n",
              "      <td>0.5</td>\n",
              "      <td>0.396947</td>\n",
              "      <td>1.0</td>\n",
              "      <td>0.032258</td>\n",
              "      <td>0.5</td>\n",
              "      <td>0.00</td>\n",
              "      <td>1.000000</td>\n",
              "    </tr>\n",
              "    <tr>\n",
              "      <th>299</th>\n",
              "      <td>0.333333</td>\n",
              "      <td>1.0</td>\n",
              "      <td>1.000000</td>\n",
              "      <td>0.150943</td>\n",
              "      <td>0.315068</td>\n",
              "      <td>0.0</td>\n",
              "      <td>0.5</td>\n",
              "      <td>0.465649</td>\n",
              "      <td>0.0</td>\n",
              "      <td>0.193548</td>\n",
              "      <td>0.5</td>\n",
              "      <td>0.00</td>\n",
              "      <td>1.000000</td>\n",
              "    </tr>\n",
              "    <tr>\n",
              "      <th>300</th>\n",
              "      <td>0.812500</td>\n",
              "      <td>1.0</td>\n",
              "      <td>0.000000</td>\n",
              "      <td>0.471698</td>\n",
              "      <td>0.152968</td>\n",
              "      <td>1.0</td>\n",
              "      <td>0.5</td>\n",
              "      <td>0.534351</td>\n",
              "      <td>0.0</td>\n",
              "      <td>0.548387</td>\n",
              "      <td>0.5</td>\n",
              "      <td>0.50</td>\n",
              "      <td>1.000000</td>\n",
              "    </tr>\n",
              "    <tr>\n",
              "      <th>301</th>\n",
              "      <td>0.583333</td>\n",
              "      <td>1.0</td>\n",
              "      <td>0.000000</td>\n",
              "      <td>0.339623</td>\n",
              "      <td>0.011416</td>\n",
              "      <td>0.0</td>\n",
              "      <td>0.5</td>\n",
              "      <td>0.335878</td>\n",
              "      <td>1.0</td>\n",
              "      <td>0.193548</td>\n",
              "      <td>0.5</td>\n",
              "      <td>0.25</td>\n",
              "      <td>1.000000</td>\n",
              "    </tr>\n",
              "    <tr>\n",
              "      <th>302</th>\n",
              "      <td>0.583333</td>\n",
              "      <td>0.0</td>\n",
              "      <td>0.333333</td>\n",
              "      <td>0.339623</td>\n",
              "      <td>0.251142</td>\n",
              "      <td>0.0</td>\n",
              "      <td>0.0</td>\n",
              "      <td>0.786260</td>\n",
              "      <td>0.0</td>\n",
              "      <td>0.000000</td>\n",
              "      <td>0.5</td>\n",
              "      <td>0.25</td>\n",
              "      <td>0.666667</td>\n",
              "    </tr>\n",
              "  </tbody>\n",
              "</table>\n",
              "<p>303 rows × 13 columns</p>\n",
              "</div>"
            ],
            "text/plain": [
              "          age  sex        cp  trestbps  ...   oldpeak  slope    ca      thal\n",
              "0    0.708333  1.0  1.000000  0.481132  ...  0.370968    0.0  0.00  0.333333\n",
              "1    0.166667  1.0  0.666667  0.339623  ...  0.564516    0.0  0.00  0.666667\n",
              "2    0.250000  0.0  0.333333  0.339623  ...  0.225806    1.0  0.00  0.666667\n",
              "3    0.562500  1.0  0.333333  0.245283  ...  0.129032    1.0  0.00  0.666667\n",
              "4    0.583333  0.0  0.000000  0.245283  ...  0.096774    1.0  0.00  0.666667\n",
              "..        ...  ...       ...       ...  ...       ...    ...   ...       ...\n",
              "298  0.583333  0.0  0.000000  0.433962  ...  0.032258    0.5  0.00  1.000000\n",
              "299  0.333333  1.0  1.000000  0.150943  ...  0.193548    0.5  0.00  1.000000\n",
              "300  0.812500  1.0  0.000000  0.471698  ...  0.548387    0.5  0.50  1.000000\n",
              "301  0.583333  1.0  0.000000  0.339623  ...  0.193548    0.5  0.25  1.000000\n",
              "302  0.583333  0.0  0.333333  0.339623  ...  0.000000    0.5  0.25  0.666667\n",
              "\n",
              "[303 rows x 13 columns]"
            ]
          },
          "metadata": {
            "tags": []
          },
          "execution_count": 26
        }
      ]
    },
    {
      "cell_type": "code",
      "metadata": {
        "execution": {
          "iopub.execute_input": "2021-06-15T20:57:26.503603Z",
          "iopub.status.busy": "2021-06-15T20:57:26.502747Z",
          "iopub.status.idle": "2021-06-15T20:57:26.756764Z",
          "shell.execute_reply": "2021-06-15T20:57:26.757546Z",
          "shell.execute_reply.started": "2021-06-15T20:55:52.396603Z"
        },
        "papermill": {
          "duration": 0.350013,
          "end_time": "2021-06-15T20:57:26.757794",
          "exception": false,
          "start_time": "2021-06-15T20:57:26.407781",
          "status": "completed"
        },
        "tags": [],
        "id": "vocational-caribbean"
      },
      "source": [
        "from sklearn.model_selection import train_test_split\n",
        "x_train, x_test, y_train, y_test = train_test_split(x,y, test_size=0.2, random_state=0)"
      ],
      "execution_count": 27,
      "outputs": []
    },
    {
      "cell_type": "code",
      "metadata": {
        "execution": {
          "iopub.execute_input": "2021-06-15T20:57:26.939494Z",
          "iopub.status.busy": "2021-06-15T20:57:26.938603Z",
          "iopub.status.idle": "2021-06-15T20:57:26.944573Z",
          "shell.execute_reply": "2021-06-15T20:57:26.945153Z",
          "shell.execute_reply.started": "2021-06-15T20:55:52.622054Z"
        },
        "papermill": {
          "duration": 0.097586,
          "end_time": "2021-06-15T20:57:26.945385",
          "exception": false,
          "start_time": "2021-06-15T20:57:26.847799",
          "status": "completed"
        },
        "tags": [],
        "id": "hired-gates"
      },
      "source": [
        "#transpose matrices\n",
        "x_train = x_train.T\n",
        "y_train = y_train.T\n",
        "x_test = x_test.T\n",
        "y_test = y_test.T"
      ],
      "execution_count": 28,
      "outputs": []
    },
    {
      "cell_type": "code",
      "metadata": {
        "execution": {
          "iopub.execute_input": "2021-06-15T20:57:27.821585Z",
          "iopub.status.busy": "2021-06-15T20:57:27.820887Z",
          "iopub.status.idle": "2021-06-15T20:57:27.826818Z",
          "shell.execute_reply": "2021-06-15T20:57:27.826044Z",
          "shell.execute_reply.started": "2021-06-15T20:55:52.631075Z"
        },
        "papermill": {
          "duration": 0.094549,
          "end_time": "2021-06-15T20:57:27.827019",
          "exception": false,
          "start_time": "2021-06-15T20:57:27.732470",
          "status": "completed"
        },
        "tags": [],
        "id": "fabulous-norway"
      },
      "source": [
        "def initialize_weights_and_bias(dimension):\n",
        "    weight = np.full((dimension, 1), 0.01)\n",
        "    bias = 0.0\n",
        "    return weight,bias"
      ],
      "execution_count": 29,
      "outputs": []
    },
    {
      "cell_type": "code",
      "metadata": {
        "execution": {
          "iopub.execute_input": "2021-06-15T20:57:28.361508Z",
          "iopub.status.busy": "2021-06-15T20:57:28.360454Z",
          "iopub.status.idle": "2021-06-15T20:57:28.364423Z",
          "shell.execute_reply": "2021-06-15T20:57:28.364958Z",
          "shell.execute_reply.started": "2021-06-15T20:55:52.646967Z"
        },
        "papermill": {
          "duration": 0.099154,
          "end_time": "2021-06-15T20:57:28.365174",
          "exception": false,
          "start_time": "2021-06-15T20:57:28.266020",
          "status": "completed"
        },
        "tags": [],
        "id": "assumed-thirty",
        "colab": {
          "base_uri": "https://localhost:8080/"
        },
        "outputId": "a7957fc6-ccc6-4a4e-d6f8-20cfd915125c"
      },
      "source": [
        "np.full((10, 1), 0.01)"
      ],
      "execution_count": 30,
      "outputs": [
        {
          "output_type": "execute_result",
          "data": {
            "text/plain": [
              "array([[0.01],\n",
              "       [0.01],\n",
              "       [0.01],\n",
              "       [0.01],\n",
              "       [0.01],\n",
              "       [0.01],\n",
              "       [0.01],\n",
              "       [0.01],\n",
              "       [0.01],\n",
              "       [0.01]])"
            ]
          },
          "metadata": {
            "tags": []
          },
          "execution_count": 30
        }
      ]
    },
    {
      "cell_type": "code",
      "metadata": {
        "execution": {
          "iopub.execute_input": "2021-06-15T20:57:29.154805Z",
          "iopub.status.busy": "2021-06-15T20:57:29.153773Z",
          "iopub.status.idle": "2021-06-15T20:57:29.158193Z",
          "shell.execute_reply": "2021-06-15T20:57:29.158700Z",
          "shell.execute_reply.started": "2021-06-15T20:55:52.663574Z"
        },
        "papermill": {
          "duration": 0.095383,
          "end_time": "2021-06-15T20:57:29.158931",
          "exception": false,
          "start_time": "2021-06-15T20:57:29.063548",
          "status": "completed"
        },
        "tags": [],
        "id": "ignored-avatar"
      },
      "source": [
        "def sigmoid(z):\n",
        "    y_head = 1/(1 + np.exp(-z))\n",
        "    return y_head"
      ],
      "execution_count": 31,
      "outputs": []
    },
    {
      "cell_type": "code",
      "metadata": {
        "execution": {
          "iopub.execute_input": "2021-06-15T20:57:30.764583Z",
          "iopub.status.busy": "2021-06-15T20:57:30.763408Z",
          "iopub.status.idle": "2021-06-15T20:57:30.772291Z",
          "shell.execute_reply": "2021-06-15T20:57:30.772823Z",
          "shell.execute_reply.started": "2021-06-15T20:55:52.678555Z"
        },
        "papermill": {
          "duration": 0.099336,
          "end_time": "2021-06-15T20:57:30.773099",
          "exception": false,
          "start_time": "2021-06-15T20:57:30.673763",
          "status": "completed"
        },
        "tags": [],
        "id": "joined-poster"
      },
      "source": [
        "def forward_backward_propagtion(weight, bias, x_train, y_train):\n",
        "    # forward propagation\n",
        "    z = np.dot(weight.T,x_train) + bias # z = b + w1.x1 + w2.x2 + .... + w302.x302\n",
        "    y_head = sigmoid(z)\n",
        "    loss = -(y_train*np.log(y_head) + (1-y_train)*np.log(1-y_head))\n",
        "    cost = np.sum(loss) / x_train.shape[1] #x_train.shape[1] for normalization\n",
        "    \n",
        "    # backward propagation\n",
        "    derivative_weight = np.dot(x_train,((y_head-y_train).T))/x_train.shape[1] #simple derivative\n",
        "    derivative_bias = np.sum(y_head-y_train)/x_train.shape[1]\n",
        "    gradients = {\"Derivative Weight\" : derivative_weight, \"Derivative Bias\" : derivative_bias} #for storage\n",
        "     \n",
        "    return cost,gradients\n"
      ],
      "execution_count": 32,
      "outputs": []
    },
    {
      "cell_type": "code",
      "metadata": {
        "execution": {
          "iopub.execute_input": "2021-06-15T20:57:30.952914Z",
          "iopub.status.busy": "2021-06-15T20:57:30.951739Z",
          "iopub.status.idle": "2021-06-15T20:57:30.961793Z",
          "shell.execute_reply": "2021-06-15T20:57:30.961057Z",
          "shell.execute_reply.started": "2021-06-15T20:55:52.692506Z"
        },
        "papermill": {
          "duration": 0.101781,
          "end_time": "2021-06-15T20:57:30.961988",
          "exception": false,
          "start_time": "2021-06-15T20:57:30.860207",
          "status": "completed"
        },
        "tags": [],
        "id": "macro-campbell"
      },
      "source": [
        "def update(weight, bias, x_train, y_train, learning_rate, iteration) :\n",
        "    cost_list = []\n",
        "    index = []\n",
        "    \n",
        "    # updating(learning) parameters in number_of_iterarion times\n",
        "    for i in range(iteration):\n",
        "        # make forward and backward propagation and find cost and gradients\n",
        "        cost,gradients = forward_backward_propagtion(weight,bias,x_train,y_train)\n",
        "        # update\n",
        "        weight = weight - learning_rate * gradients[\"Derivative Weight\"]\n",
        "        bias = bias - learning_rate * gradients[\"Derivative Bias\"]\n",
        "        \n",
        "        cost_list.append(cost)\n",
        "        index.append(i)\n",
        "        print (\"Cost after iteration %i: %f\" %(i, cost))\n",
        "        \n",
        "    parameters = {\"weight\": weight,\"bias\": bias}\n",
        "    \n",
        "    print(\"iteration:\",iteration)\n",
        "    print(\"cost:\",cost)\n",
        "\n",
        "    plt.plot(index,cost_list)\n",
        "    plt.xlabel(\"Number of Iteration\")\n",
        "    plt.ylabel(\"Cost\")\n",
        "    plt.show()\n",
        "\n",
        "    return parameters, gradients"
      ],
      "execution_count": 33,
      "outputs": []
    },
    {
      "cell_type": "code",
      "metadata": {
        "execution": {
          "iopub.execute_input": "2021-06-15T20:57:31.149888Z",
          "iopub.status.busy": "2021-06-15T20:57:31.149114Z",
          "iopub.status.idle": "2021-06-15T20:57:31.151473Z",
          "shell.execute_reply": "2021-06-15T20:57:31.151986Z",
          "shell.execute_reply.started": "2021-06-15T20:55:52.710357Z"
        },
        "papermill": {
          "duration": 0.10443,
          "end_time": "2021-06-15T20:57:31.152225",
          "exception": false,
          "start_time": "2021-06-15T20:57:31.047795",
          "status": "completed"
        },
        "tags": [],
        "id": "geographic-graphic"
      },
      "source": [
        "def predict(weight, bias, x_test):\n",
        "    # x_test is an input for forward propagation\n",
        "    z = np.dot(weight.T,x_test) + bias\n",
        "    y_head = sigmoid(z)\n",
        "\n",
        "    y_prediction = np.zeros((1,x_test.shape[1]))\n",
        "    \n",
        "    # if z is bigger than 0.5, our prediction is sign one (y_head=1),\n",
        "    # if z is smaller than 0.5, our prediction is sign zero (y_head=0)\n",
        "    for i in range(z.shape[1]):\n",
        "        if z[0,i] <= 0.5:\n",
        "            y_prediction[0,i] = 0\n",
        "        else:\n",
        "            y_prediction[0,i] = 1\n",
        "    return y_prediction"
      ],
      "execution_count": 34,
      "outputs": []
    },
    {
      "cell_type": "code",
      "metadata": {
        "execution": {
          "iopub.execute_input": "2021-06-15T20:57:31.348368Z",
          "iopub.status.busy": "2021-06-15T20:57:31.347439Z",
          "iopub.status.idle": "2021-06-15T20:57:31.351337Z",
          "shell.execute_reply": "2021-06-15T20:57:31.350627Z",
          "shell.execute_reply.started": "2021-06-15T20:55:52.723531Z"
        },
        "papermill": {
          "duration": 0.107555,
          "end_time": "2021-06-15T20:57:31.351533",
          "exception": false,
          "start_time": "2021-06-15T20:57:31.243978",
          "status": "completed"
        },
        "tags": [],
        "id": "owned-variable"
      },
      "source": [
        "def logistic_regression(x_train, y_train, x_test, y_test, learning_rate, iteration):\n",
        "    # initialize\n",
        "    dimension = x_train.shape[0]\n",
        "    weight,bias = initialize_weights_and_bias(dimension)\n",
        "     \n",
        "    parameters, gradients = update(weight, bias,x_train, y_train, learning_rate, iteration)\n",
        "\n",
        "    y_prediction = predict(parameters[\"weight\"],parameters[\"bias\"],x_test)\n",
        "    \n",
        "    print(\"Accuracy of Model : {}%\".format((100 - np.mean(np.abs(y_prediction - y_test))*100)))"
      ],
      "execution_count": 35,
      "outputs": []
    },
    {
      "cell_type": "code",
      "metadata": {
        "execution": {
          "iopub.execute_input": "2021-06-15T20:57:31.534870Z",
          "iopub.status.busy": "2021-06-15T20:57:31.533533Z",
          "iopub.status.idle": "2021-06-15T20:57:31.796670Z",
          "shell.execute_reply": "2021-06-15T20:57:31.795902Z",
          "shell.execute_reply.started": "2021-06-15T20:55:52.739772Z"
        },
        "papermill": {
          "duration": 0.358488,
          "end_time": "2021-06-15T20:57:31.796903",
          "exception": false,
          "start_time": "2021-06-15T20:57:31.438415",
          "status": "completed"
        },
        "tags": [],
        "colab": {
          "base_uri": "https://localhost:8080/",
          "height": 1000
        },
        "id": "qualified-visibility",
        "outputId": "d9039445-fd51-4852-f2ca-4598dab21dc7"
      },
      "source": [
        "logistic_regression(x_train,y_train,x_test,y_test,2,200)"
      ],
      "execution_count": 36,
      "outputs": [
        {
          "output_type": "stream",
          "text": [
            "Cost after iteration 0: 0.693132\n",
            "Cost after iteration 1: 0.635737\n",
            "Cost after iteration 2: 0.592984\n",
            "Cost after iteration 3: 0.560639\n",
            "Cost after iteration 4: 0.535680\n",
            "Cost after iteration 5: 0.516018\n",
            "Cost after iteration 6: 0.500211\n",
            "Cost after iteration 7: 0.487263\n",
            "Cost after iteration 8: 0.476473\n",
            "Cost after iteration 9: 0.467343\n",
            "Cost after iteration 10: 0.459510\n",
            "Cost after iteration 11: 0.452710\n",
            "Cost after iteration 12: 0.446743\n",
            "Cost after iteration 13: 0.441459\n",
            "Cost after iteration 14: 0.436741\n",
            "Cost after iteration 15: 0.432496\n",
            "Cost after iteration 16: 0.428654\n",
            "Cost after iteration 17: 0.425156\n",
            "Cost after iteration 18: 0.421955\n",
            "Cost after iteration 19: 0.419012\n",
            "Cost after iteration 20: 0.416296\n",
            "Cost after iteration 21: 0.413779\n",
            "Cost after iteration 22: 0.411439\n",
            "Cost after iteration 23: 0.409257\n",
            "Cost after iteration 24: 0.407217\n",
            "Cost after iteration 25: 0.405305\n",
            "Cost after iteration 26: 0.403509\n",
            "Cost after iteration 27: 0.401817\n",
            "Cost after iteration 28: 0.400222\n",
            "Cost after iteration 29: 0.398714\n",
            "Cost after iteration 30: 0.397287\n",
            "Cost after iteration 31: 0.395933\n",
            "Cost after iteration 32: 0.394648\n",
            "Cost after iteration 33: 0.393427\n",
            "Cost after iteration 34: 0.392264\n",
            "Cost after iteration 35: 0.391155\n",
            "Cost after iteration 36: 0.390097\n",
            "Cost after iteration 37: 0.389086\n",
            "Cost after iteration 38: 0.388120\n",
            "Cost after iteration 39: 0.387195\n",
            "Cost after iteration 40: 0.386309\n",
            "Cost after iteration 41: 0.385459\n",
            "Cost after iteration 42: 0.384644\n",
            "Cost after iteration 43: 0.383860\n",
            "Cost after iteration 44: 0.383107\n",
            "Cost after iteration 45: 0.382383\n",
            "Cost after iteration 46: 0.381686\n",
            "Cost after iteration 47: 0.381014\n",
            "Cost after iteration 48: 0.380367\n",
            "Cost after iteration 49: 0.379742\n",
            "Cost after iteration 50: 0.379140\n",
            "Cost after iteration 51: 0.378558\n",
            "Cost after iteration 52: 0.377995\n",
            "Cost after iteration 53: 0.377452\n",
            "Cost after iteration 54: 0.376926\n",
            "Cost after iteration 55: 0.376417\n",
            "Cost after iteration 56: 0.375924\n",
            "Cost after iteration 57: 0.375446\n",
            "Cost after iteration 58: 0.374984\n",
            "Cost after iteration 59: 0.374535\n",
            "Cost after iteration 60: 0.374100\n",
            "Cost after iteration 61: 0.373677\n",
            "Cost after iteration 62: 0.373267\n",
            "Cost after iteration 63: 0.372868\n",
            "Cost after iteration 64: 0.372481\n",
            "Cost after iteration 65: 0.372105\n",
            "Cost after iteration 66: 0.371739\n",
            "Cost after iteration 67: 0.371382\n",
            "Cost after iteration 68: 0.371036\n",
            "Cost after iteration 69: 0.370698\n",
            "Cost after iteration 70: 0.370370\n",
            "Cost after iteration 71: 0.370050\n",
            "Cost after iteration 72: 0.369737\n",
            "Cost after iteration 73: 0.369433\n",
            "Cost after iteration 74: 0.369137\n",
            "Cost after iteration 75: 0.368847\n",
            "Cost after iteration 76: 0.368565\n",
            "Cost after iteration 77: 0.368289\n",
            "Cost after iteration 78: 0.368020\n",
            "Cost after iteration 79: 0.367757\n",
            "Cost after iteration 80: 0.367501\n",
            "Cost after iteration 81: 0.367250\n",
            "Cost after iteration 82: 0.367004\n",
            "Cost after iteration 83: 0.366765\n",
            "Cost after iteration 84: 0.366530\n",
            "Cost after iteration 85: 0.366301\n",
            "Cost after iteration 86: 0.366077\n",
            "Cost after iteration 87: 0.365857\n",
            "Cost after iteration 88: 0.365642\n",
            "Cost after iteration 89: 0.365432\n",
            "Cost after iteration 90: 0.365226\n",
            "Cost after iteration 91: 0.365024\n",
            "Cost after iteration 92: 0.364826\n",
            "Cost after iteration 93: 0.364632\n",
            "Cost after iteration 94: 0.364442\n",
            "Cost after iteration 95: 0.364256\n",
            "Cost after iteration 96: 0.364074\n",
            "Cost after iteration 97: 0.363895\n",
            "Cost after iteration 98: 0.363719\n",
            "Cost after iteration 99: 0.363547\n",
            "Cost after iteration 100: 0.363377\n",
            "Cost after iteration 101: 0.363212\n",
            "Cost after iteration 102: 0.363049\n",
            "Cost after iteration 103: 0.362889\n",
            "Cost after iteration 104: 0.362732\n",
            "Cost after iteration 105: 0.362577\n",
            "Cost after iteration 106: 0.362426\n",
            "Cost after iteration 107: 0.362277\n",
            "Cost after iteration 108: 0.362131\n",
            "Cost after iteration 109: 0.361987\n",
            "Cost after iteration 110: 0.361846\n",
            "Cost after iteration 111: 0.361707\n",
            "Cost after iteration 112: 0.361570\n",
            "Cost after iteration 113: 0.361436\n",
            "Cost after iteration 114: 0.361304\n",
            "Cost after iteration 115: 0.361174\n",
            "Cost after iteration 116: 0.361046\n",
            "Cost after iteration 117: 0.360920\n",
            "Cost after iteration 118: 0.360797\n",
            "Cost after iteration 119: 0.360675\n",
            "Cost after iteration 120: 0.360555\n",
            "Cost after iteration 121: 0.360437\n",
            "Cost after iteration 122: 0.360321\n",
            "Cost after iteration 123: 0.360206\n",
            "Cost after iteration 124: 0.360094\n",
            "Cost after iteration 125: 0.359983\n",
            "Cost after iteration 126: 0.359874\n",
            "Cost after iteration 127: 0.359766\n",
            "Cost after iteration 128: 0.359660\n",
            "Cost after iteration 129: 0.359555\n",
            "Cost after iteration 130: 0.359452\n",
            "Cost after iteration 131: 0.359351\n",
            "Cost after iteration 132: 0.359251\n",
            "Cost after iteration 133: 0.359152\n",
            "Cost after iteration 134: 0.359055\n",
            "Cost after iteration 135: 0.358959\n",
            "Cost after iteration 136: 0.358865\n",
            "Cost after iteration 137: 0.358771\n",
            "Cost after iteration 138: 0.358680\n",
            "Cost after iteration 139: 0.358589\n",
            "Cost after iteration 140: 0.358499\n",
            "Cost after iteration 141: 0.358411\n",
            "Cost after iteration 142: 0.358324\n",
            "Cost after iteration 143: 0.358238\n",
            "Cost after iteration 144: 0.358153\n",
            "Cost after iteration 145: 0.358070\n",
            "Cost after iteration 146: 0.357987\n",
            "Cost after iteration 147: 0.357906\n",
            "Cost after iteration 148: 0.357825\n",
            "Cost after iteration 149: 0.357746\n",
            "Cost after iteration 150: 0.357667\n",
            "Cost after iteration 151: 0.357590\n",
            "Cost after iteration 152: 0.357514\n",
            "Cost after iteration 153: 0.357438\n",
            "Cost after iteration 154: 0.357364\n",
            "Cost after iteration 155: 0.357290\n",
            "Cost after iteration 156: 0.357217\n",
            "Cost after iteration 157: 0.357145\n",
            "Cost after iteration 158: 0.357075\n",
            "Cost after iteration 159: 0.357004\n",
            "Cost after iteration 160: 0.356935\n",
            "Cost after iteration 161: 0.356867\n",
            "Cost after iteration 162: 0.356799\n",
            "Cost after iteration 163: 0.356732\n",
            "Cost after iteration 164: 0.356666\n",
            "Cost after iteration 165: 0.356601\n",
            "Cost after iteration 166: 0.356536\n",
            "Cost after iteration 167: 0.356473\n",
            "Cost after iteration 168: 0.356410\n",
            "Cost after iteration 169: 0.356347\n",
            "Cost after iteration 170: 0.356286\n",
            "Cost after iteration 171: 0.356225\n",
            "Cost after iteration 172: 0.356165\n",
            "Cost after iteration 173: 0.356105\n",
            "Cost after iteration 174: 0.356046\n",
            "Cost after iteration 175: 0.355988\n",
            "Cost after iteration 176: 0.355930\n",
            "Cost after iteration 177: 0.355873\n",
            "Cost after iteration 178: 0.355817\n",
            "Cost after iteration 179: 0.355761\n",
            "Cost after iteration 180: 0.355706\n",
            "Cost after iteration 181: 0.355652\n",
            "Cost after iteration 182: 0.355598\n",
            "Cost after iteration 183: 0.355544\n",
            "Cost after iteration 184: 0.355492\n",
            "Cost after iteration 185: 0.355439\n",
            "Cost after iteration 186: 0.355388\n",
            "Cost after iteration 187: 0.355337\n",
            "Cost after iteration 188: 0.355286\n",
            "Cost after iteration 189: 0.355236\n",
            "Cost after iteration 190: 0.355186\n",
            "Cost after iteration 191: 0.355137\n",
            "Cost after iteration 192: 0.355089\n",
            "Cost after iteration 193: 0.355041\n",
            "Cost after iteration 194: 0.354993\n",
            "Cost after iteration 195: 0.354946\n",
            "Cost after iteration 196: 0.354899\n",
            "Cost after iteration 197: 0.354853\n",
            "Cost after iteration 198: 0.354808\n",
            "Cost after iteration 199: 0.354762\n",
            "iteration: 200\n",
            "cost: 0.3547623326396031\n"
          ],
          "name": "stdout"
        },
        {
          "output_type": "display_data",
          "data": {
            "image/png": "[encoded data removed]",
            "text/plain": [
              "<Figure size 432x288 with 1 Axes>"
            ]
          },
          "metadata": {
            "tags": []
          }
        },
        {
          "output_type": "stream",
          "text": [
            "Accuracy of Model : 85.24590163934427%\n"
          ],
          "name": "stdout"
        }
      ]
    },
    {
      "cell_type": "code",
      "metadata": {
        "execution": {
          "iopub.execute_input": "2021-06-15T20:57:32.165667Z",
          "iopub.status.busy": "2021-06-15T20:57:32.164813Z",
          "iopub.status.idle": "2021-06-15T20:57:32.299877Z",
          "shell.execute_reply": "2021-06-15T20:57:32.299209Z",
          "shell.execute_reply.started": "2021-06-15T20:55:52.984743Z"
        },
        "papermill": {
          "duration": 0.228954,
          "end_time": "2021-06-15T20:57:32.300081",
          "exception": false,
          "start_time": "2021-06-15T20:57:32.071127",
          "status": "completed"
        },
        "tags": [],
        "id": "regional-vertex",
        "colab": {
          "base_uri": "https://localhost:8080/"
        },
        "outputId": "86ae328d-0697-4254-f5c1-bae364103bec"
      },
      "source": [
        "from sklearn.linear_model import LogisticRegression\n",
        "lr = LogisticRegression()\n",
        "\n",
        "lr.fit(x_train.T, y_train.T)\n",
        "print(\"test accuracy {}\".format(lr.score(x_test.T,y_test.T))) #"
      ],
      "execution_count": 37,
      "outputs": [
        {
          "output_type": "stream",
          "text": [
            "test accuracy 0.8360655737704918\n"
          ],
          "name": "stdout"
        }
      ]
    },
    {
      "cell_type": "code",
      "metadata": {
        "id": "4S9xomcElfHS"
      },
      "source": [
        ""
      ],
      "execution_count": 37,
      "outputs": []
    },
    {
      "cell_type": "markdown",
      "metadata": {
        "id": "KLNCxYetMta6"
      },
      "source": [
        "**Decision tree**"
      ]
    },
    {
      "cell_type": "code",
      "metadata": {
        "id": "LsnYWgAUFq9d"
      },
      "source": [
        "dt.columns = ['age', 'sex', 'chest_pain_type', 'resting_blood_pressure', 'cholesterol', 'fasting_blood_sugar', 'rest_ecg', 'max_heart_rate_achieved',\n",
        "       'exercise_induced_angina', 'st_depression', 'st_slope', 'num_major_vessels', 'thalassemia', 'target']"
      ],
      "execution_count": 38,
      "outputs": []
    },
    {
      "cell_type": "code",
      "metadata": {
        "colab": {
          "base_uri": "https://localhost:8080/",
          "height": 317
        },
        "id": "jl3fMbXUGS7b",
        "outputId": "c2796ed5-cc6e-4e46-e0b3-5cc982bde397"
      },
      "source": [
        "dt.describe()"
      ],
      "execution_count": 39,
      "outputs": [
        {
          "output_type": "execute_result",
          "data": {
            "text/html": [
              "<div>\n",
              "<style scoped>\n",
              "    .dataframe tbody tr th:only-of-type {\n",
              "        vertical-align: middle;\n",
              "    }\n",
              "\n",
              "    .dataframe tbody tr th {\n",
              "        vertical-align: top;\n",
              "    }\n",
              "\n",
              "    .dataframe thead th {\n",
              "        text-align: right;\n",
              "    }\n",
              "</style>\n",
              "<table border=\"1\" class=\"dataframe\">\n",
              "  <thead>\n",
              "    <tr style=\"text-align: right;\">\n",
              "      <th></th>\n",
              "      <th>age</th>\n",
              "      <th>sex</th>\n",
              "      <th>chest_pain_type</th>\n",
              "      <th>resting_blood_pressure</th>\n",
              "      <th>cholesterol</th>\n",
              "      <th>fasting_blood_sugar</th>\n",
              "      <th>rest_ecg</th>\n",
              "      <th>max_heart_rate_achieved</th>\n",
              "      <th>exercise_induced_angina</th>\n",
              "      <th>st_depression</th>\n",
              "      <th>st_slope</th>\n",
              "      <th>num_major_vessels</th>\n",
              "      <th>thalassemia</th>\n",
              "      <th>target</th>\n",
              "    </tr>\n",
              "  </thead>\n",
              "  <tbody>\n",
              "    <tr>\n",
              "      <th>count</th>\n",
              "      <td>303.000000</td>\n",
              "      <td>303.000000</td>\n",
              "      <td>303.000000</td>\n",
              "      <td>303.000000</td>\n",
              "      <td>303.000000</td>\n",
              "      <td>303.000000</td>\n",
              "      <td>303.000000</td>\n",
              "      <td>303.000000</td>\n",
              "      <td>303.000000</td>\n",
              "      <td>303.000000</td>\n",
              "      <td>303.000000</td>\n",
              "      <td>303.000000</td>\n",
              "      <td>303.000000</td>\n",
              "      <td>303.000000</td>\n",
              "    </tr>\n",
              "    <tr>\n",
              "      <th>mean</th>\n",
              "      <td>54.366337</td>\n",
              "      <td>0.683168</td>\n",
              "      <td>0.966997</td>\n",
              "      <td>131.623762</td>\n",
              "      <td>246.264026</td>\n",
              "      <td>0.148515</td>\n",
              "      <td>0.528053</td>\n",
              "      <td>149.646865</td>\n",
              "      <td>0.326733</td>\n",
              "      <td>1.039604</td>\n",
              "      <td>1.399340</td>\n",
              "      <td>0.729373</td>\n",
              "      <td>2.313531</td>\n",
              "      <td>0.544554</td>\n",
              "    </tr>\n",
              "    <tr>\n",
              "      <th>std</th>\n",
              "      <td>9.082101</td>\n",
              "      <td>0.466011</td>\n",
              "      <td>1.032052</td>\n",
              "      <td>17.538143</td>\n",
              "      <td>51.830751</td>\n",
              "      <td>0.356198</td>\n",
              "      <td>0.525860</td>\n",
              "      <td>22.905161</td>\n",
              "      <td>0.469794</td>\n",
              "      <td>1.161075</td>\n",
              "      <td>0.616226</td>\n",
              "      <td>1.022606</td>\n",
              "      <td>0.612277</td>\n",
              "      <td>0.498835</td>\n",
              "    </tr>\n",
              "    <tr>\n",
              "      <th>min</th>\n",
              "      <td>29.000000</td>\n",
              "      <td>0.000000</td>\n",
              "      <td>0.000000</td>\n",
              "      <td>94.000000</td>\n",
              "      <td>126.000000</td>\n",
              "      <td>0.000000</td>\n",
              "      <td>0.000000</td>\n",
              "      <td>71.000000</td>\n",
              "      <td>0.000000</td>\n",
              "      <td>0.000000</td>\n",
              "      <td>0.000000</td>\n",
              "      <td>0.000000</td>\n",
              "      <td>0.000000</td>\n",
              "      <td>0.000000</td>\n",
              "    </tr>\n",
              "    <tr>\n",
              "      <th>25%</th>\n",
              "      <td>47.500000</td>\n",
              "      <td>0.000000</td>\n",
              "      <td>0.000000</td>\n",
              "      <td>120.000000</td>\n",
              "      <td>211.000000</td>\n",
              "      <td>0.000000</td>\n",
              "      <td>0.000000</td>\n",
              "      <td>133.500000</td>\n",
              "      <td>0.000000</td>\n",
              "      <td>0.000000</td>\n",
              "      <td>1.000000</td>\n",
              "      <td>0.000000</td>\n",
              "      <td>2.000000</td>\n",
              "      <td>0.000000</td>\n",
              "    </tr>\n",
              "    <tr>\n",
              "      <th>50%</th>\n",
              "      <td>55.000000</td>\n",
              "      <td>1.000000</td>\n",
              "      <td>1.000000</td>\n",
              "      <td>130.000000</td>\n",
              "      <td>240.000000</td>\n",
              "      <td>0.000000</td>\n",
              "      <td>1.000000</td>\n",
              "      <td>153.000000</td>\n",
              "      <td>0.000000</td>\n",
              "      <td>0.800000</td>\n",
              "      <td>1.000000</td>\n",
              "      <td>0.000000</td>\n",
              "      <td>2.000000</td>\n",
              "      <td>1.000000</td>\n",
              "    </tr>\n",
              "    <tr>\n",
              "      <th>75%</th>\n",
              "      <td>61.000000</td>\n",
              "      <td>1.000000</td>\n",
              "      <td>2.000000</td>\n",
              "      <td>140.000000</td>\n",
              "      <td>274.500000</td>\n",
              "      <td>0.000000</td>\n",
              "      <td>1.000000</td>\n",
              "      <td>166.000000</td>\n",
              "      <td>1.000000</td>\n",
              "      <td>1.600000</td>\n",
              "      <td>2.000000</td>\n",
              "      <td>1.000000</td>\n",
              "      <td>3.000000</td>\n",
              "      <td>1.000000</td>\n",
              "    </tr>\n",
              "    <tr>\n",
              "      <th>max</th>\n",
              "      <td>77.000000</td>\n",
              "      <td>1.000000</td>\n",
              "      <td>3.000000</td>\n",
              "      <td>200.000000</td>\n",
              "      <td>564.000000</td>\n",
              "      <td>1.000000</td>\n",
              "      <td>2.000000</td>\n",
              "      <td>202.000000</td>\n",
              "      <td>1.000000</td>\n",
              "      <td>6.200000</td>\n",
              "      <td>2.000000</td>\n",
              "      <td>4.000000</td>\n",
              "      <td>3.000000</td>\n",
              "      <td>1.000000</td>\n",
              "    </tr>\n",
              "  </tbody>\n",
              "</table>\n",
              "</div>"
            ],
            "text/plain": [
              "              age         sex  ...  thalassemia      target\n",
              "count  303.000000  303.000000  ...   303.000000  303.000000\n",
              "mean    54.366337    0.683168  ...     2.313531    0.544554\n",
              "std      9.082101    0.466011  ...     0.612277    0.498835\n",
              "min     29.000000    0.000000  ...     0.000000    0.000000\n",
              "25%     47.500000    0.000000  ...     2.000000    0.000000\n",
              "50%     55.000000    1.000000  ...     2.000000    1.000000\n",
              "75%     61.000000    1.000000  ...     3.000000    1.000000\n",
              "max     77.000000    1.000000  ...     3.000000    1.000000\n",
              "\n",
              "[8 rows x 14 columns]"
            ]
          },
          "metadata": {
            "tags": []
          },
          "execution_count": 39
        }
      ]
    },
    {
      "cell_type": "code",
      "metadata": {
        "id": "QxT2Cl8iGY0C"
      },
      "source": [
        "ranges = [0, 120, 140, np.inf]\n",
        "labels = [0, 1, 2]\n",
        "\n",
        "dt['resting_blood_pressure'] = pd.cut(dt.resting_blood_pressure, bins=ranges, labels=labels)"
      ],
      "execution_count": 40,
      "outputs": []
    },
    {
      "cell_type": "code",
      "metadata": {
        "id": "a5zkiXIIGqfA"
      },
      "source": [
        "ranges = [0, 200, 270, np.inf]\n",
        "labels = [0, 1, 2]\n",
        "\n",
        "dt['cholesterol'] = pd.cut(dt.cholesterol, bins=ranges, labels=labels)"
      ],
      "execution_count": 41,
      "outputs": []
    },
    {
      "cell_type": "code",
      "metadata": {
        "id": "WBo8IVv-G7Yx"
      },
      "source": [
        "ranges = [0, 130, 160, np.inf]\n",
        "labels = [0, 1, 2]\n",
        "\n",
        "dt['max_heart_rate_achieved'] = pd.cut(dt.max_heart_rate_achieved, bins=ranges, labels=labels)"
      ],
      "execution_count": 42,
      "outputs": []
    },
    {
      "cell_type": "code",
      "metadata": {
        "id": "AVJFeKUhHBOy"
      },
      "source": [
        "ranges = [0, 0.8, 1.6, np.inf]\n",
        "labels = [0, 1, 2]\n",
        "\n",
        "dt['st_depression'] = pd.cut(dt.st_depression, bins=ranges, labels=labels)"
      ],
      "execution_count": 43,
      "outputs": []
    },
    {
      "cell_type": "code",
      "metadata": {
        "id": "DpMzBLh8HFPa"
      },
      "source": [
        "dt['resting_blood_pressure'] = pd.to_numeric(dt.resting_blood_pressure)\n",
        "dt['cholesterol'] = pd.to_numeric(dt.cholesterol)\n",
        "dt['max_heart_rate_achieved'] = pd.to_numeric(dt.max_heart_rate_achieved)\n",
        "dt['st_depression'] = pd.to_numeric(dt.st_depression)"
      ],
      "execution_count": 44,
      "outputs": []
    },
    {
      "cell_type": "code",
      "metadata": {
        "id": "FIpzoVk4HZyP"
      },
      "source": [
        "for i in dt.columns:\n",
        "    dt[i].fillna(dt[i].mean(), inplace=True)"
      ],
      "execution_count": 45,
      "outputs": []
    },
    {
      "cell_type": "code",
      "metadata": {
        "colab": {
          "base_uri": "https://localhost:8080/",
          "height": 224
        },
        "id": "cA2w6gAOHp-y",
        "outputId": "ca45128e-f1f4-4f3e-a82d-56283c985d97"
      },
      "source": [
        "dt.head()"
      ],
      "execution_count": 46,
      "outputs": [
        {
          "output_type": "execute_result",
          "data": {
            "text/html": [
              "<div>\n",
              "<style scoped>\n",
              "    .dataframe tbody tr th:only-of-type {\n",
              "        vertical-align: middle;\n",
              "    }\n",
              "\n",
              "    .dataframe tbody tr th {\n",
              "        vertical-align: top;\n",
              "    }\n",
              "\n",
              "    .dataframe thead th {\n",
              "        text-align: right;\n",
              "    }\n",
              "</style>\n",
              "<table border=\"1\" class=\"dataframe\">\n",
              "  <thead>\n",
              "    <tr style=\"text-align: right;\">\n",
              "      <th></th>\n",
              "      <th>age</th>\n",
              "      <th>sex</th>\n",
              "      <th>chest_pain_type</th>\n",
              "      <th>resting_blood_pressure</th>\n",
              "      <th>cholesterol</th>\n",
              "      <th>fasting_blood_sugar</th>\n",
              "      <th>rest_ecg</th>\n",
              "      <th>max_heart_rate_achieved</th>\n",
              "      <th>exercise_induced_angina</th>\n",
              "      <th>st_depression</th>\n",
              "      <th>st_slope</th>\n",
              "      <th>num_major_vessels</th>\n",
              "      <th>thalassemia</th>\n",
              "      <th>target</th>\n",
              "    </tr>\n",
              "  </thead>\n",
              "  <tbody>\n",
              "    <tr>\n",
              "      <th>0</th>\n",
              "      <td>63</td>\n",
              "      <td>1</td>\n",
              "      <td>3</td>\n",
              "      <td>2</td>\n",
              "      <td>1</td>\n",
              "      <td>1</td>\n",
              "      <td>0</td>\n",
              "      <td>1</td>\n",
              "      <td>0</td>\n",
              "      <td>2.0</td>\n",
              "      <td>0</td>\n",
              "      <td>0</td>\n",
              "      <td>1</td>\n",
              "      <td>1</td>\n",
              "    </tr>\n",
              "    <tr>\n",
              "      <th>1</th>\n",
              "      <td>37</td>\n",
              "      <td>1</td>\n",
              "      <td>2</td>\n",
              "      <td>1</td>\n",
              "      <td>1</td>\n",
              "      <td>0</td>\n",
              "      <td>1</td>\n",
              "      <td>2</td>\n",
              "      <td>0</td>\n",
              "      <td>2.0</td>\n",
              "      <td>0</td>\n",
              "      <td>0</td>\n",
              "      <td>2</td>\n",
              "      <td>1</td>\n",
              "    </tr>\n",
              "    <tr>\n",
              "      <th>2</th>\n",
              "      <td>41</td>\n",
              "      <td>0</td>\n",
              "      <td>1</td>\n",
              "      <td>1</td>\n",
              "      <td>1</td>\n",
              "      <td>0</td>\n",
              "      <td>0</td>\n",
              "      <td>2</td>\n",
              "      <td>0</td>\n",
              "      <td>1.0</td>\n",
              "      <td>2</td>\n",
              "      <td>0</td>\n",
              "      <td>2</td>\n",
              "      <td>1</td>\n",
              "    </tr>\n",
              "    <tr>\n",
              "      <th>3</th>\n",
              "      <td>56</td>\n",
              "      <td>1</td>\n",
              "      <td>1</td>\n",
              "      <td>0</td>\n",
              "      <td>1</td>\n",
              "      <td>0</td>\n",
              "      <td>1</td>\n",
              "      <td>2</td>\n",
              "      <td>0</td>\n",
              "      <td>0.0</td>\n",
              "      <td>2</td>\n",
              "      <td>0</td>\n",
              "      <td>2</td>\n",
              "      <td>1</td>\n",
              "    </tr>\n",
              "    <tr>\n",
              "      <th>4</th>\n",
              "      <td>57</td>\n",
              "      <td>0</td>\n",
              "      <td>0</td>\n",
              "      <td>0</td>\n",
              "      <td>2</td>\n",
              "      <td>0</td>\n",
              "      <td>1</td>\n",
              "      <td>2</td>\n",
              "      <td>1</td>\n",
              "      <td>0.0</td>\n",
              "      <td>2</td>\n",
              "      <td>0</td>\n",
              "      <td>2</td>\n",
              "      <td>1</td>\n",
              "    </tr>\n",
              "  </tbody>\n",
              "</table>\n",
              "</div>"
            ],
            "text/plain": [
              "   age  sex  chest_pain_type  ...  num_major_vessels  thalassemia  target\n",
              "0   63    1                3  ...                  0            1       1\n",
              "1   37    1                2  ...                  0            2       1\n",
              "2   41    0                1  ...                  0            2       1\n",
              "3   56    1                1  ...                  0            2       1\n",
              "4   57    0                0  ...                  0            2       1\n",
              "\n",
              "[5 rows x 14 columns]"
            ]
          },
          "metadata": {
            "tags": []
          },
          "execution_count": 46
        }
      ]
    },
    {
      "cell_type": "code",
      "metadata": {
        "id": "9NXJ-9FoHrJA"
      },
      "source": [
        "X_train, X_test, y_train, y_test = train_test_split(dt.drop('target', 1), dt['target'], test_size = 0.3, random_state=10)"
      ],
      "execution_count": 47,
      "outputs": []
    },
    {
      "cell_type": "code",
      "metadata": {
        "colab": {
          "base_uri": "https://localhost:8080/"
        },
        "id": "P5cGmEmWIJp9",
        "outputId": "b2122d45-1b49-4107-f675-c1fce933ced8"
      },
      "source": [
        "dt_model = DecisionTreeClassifier(criterion='entropy', max_depth=6, min_samples_leaf=6)\n",
        "dt_model.fit(X_train, y_train)\n",
        "dt_model.score(X_test, y_test)"
      ],
      "execution_count": 48,
      "outputs": [
        {
          "output_type": "execute_result",
          "data": {
            "text/plain": [
              "0.7582417582417582"
            ]
          },
          "metadata": {
            "tags": []
          },
          "execution_count": 48
        }
      ]
    },
    {
      "cell_type": "code",
      "metadata": {
        "colab": {
          "base_uri": "https://localhost:8080/"
        },
        "id": "pGApwd3xIsIb",
        "outputId": "8007af67-705f-4636-8ea3-bd455d04bf19"
      },
      "source": [
        "rf = RandomForestClassifier(n_estimators=300, criterion='entropy', max_depth= 3, min_samples_leaf= 5)\n",
        "rf.fit(X_train, y_train)\n",
        "rf.score(X_test, y_test)"
      ],
      "execution_count": 49,
      "outputs": [
        {
          "output_type": "execute_result",
          "data": {
            "text/plain": [
              "0.8021978021978022"
            ]
          },
          "metadata": {
            "tags": []
          },
          "execution_count": 49
        }
      ]
    },
    {
      "cell_type": "code",
      "metadata": {
        "id": "9Wpcc-DaJwf3"
      },
      "source": [
        "y_pred = rf.predict(X_test)"
      ],
      "execution_count": 50,
      "outputs": []
    },
    {
      "cell_type": "code",
      "metadata": {
        "colab": {
          "base_uri": "https://localhost:8080/"
        },
        "id": "QqTbug6RJ77V",
        "outputId": "5bd2bd9b-3274-4049-d4dd-53bbd8a3801f"
      },
      "source": [
        "from sklearn.metrics import classification_report\n",
        "print(classification_report(y_test, y_pred))"
      ],
      "execution_count": 51,
      "outputs": [
        {
          "output_type": "stream",
          "text": [
            "              precision    recall  f1-score   support\n",
            "\n",
            "           0       0.90      0.72      0.80        50\n",
            "           1       0.73      0.90      0.80        41\n",
            "\n",
            "    accuracy                           0.80        91\n",
            "   macro avg       0.81      0.81      0.80        91\n",
            "weighted avg       0.82      0.80      0.80        91\n",
            "\n"
          ],
          "name": "stdout"
        }
      ]
    },
    {
      "cell_type": "code",
      "metadata": {
        "id": "Y_m1rSINJ-yh"
      },
      "source": [
        "X, y = dt.iloc[:,:-1], dt.iloc[:,-1]\n",
        "\n",
        "dt_dmatrix = xgb.DMatrix(data=X,label=y)\n",
        "\n",
        "X_train, X_test, y_train, y_test = train_test_split(X, y, test_size=0.2, random_state=123)"
      ],
      "execution_count": 53,
      "outputs": []
    },
    {
      "cell_type": "code",
      "metadata": {
        "colab": {
          "base_uri": "https://localhost:8080/"
        },
        "id": "tUNB47I6KNr0",
        "outputId": "8a877e26-a719-4a66-d45d-ebc836fed5d1"
      },
      "source": [
        "clf = xgb.XGBClassifier(subsample=0.7, n_estimators= 500, learning_rate=1.0, num_boost_round=10)\n",
        "clf.fit(X_train, y_train)\n",
        "print('Score: ',clf.score(X_test, y_test))"
      ],
      "execution_count": 54,
      "outputs": [
        {
          "output_type": "stream",
          "text": [
            "Score:  0.7868852459016393\n"
          ],
          "name": "stdout"
        }
      ]
    },
    {
      "cell_type": "code",
      "metadata": {
        "id": "VFB3gI_5Ki9Z"
      },
      "source": [
        ""
      ],
      "execution_count": null,
      "outputs": []
    }
  ]
}